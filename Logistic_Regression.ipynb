{
  "nbformat": 4,
  "nbformat_minor": 0,
  "metadata": {
    "kernelspec": {
      "display_name": "Python 3",
      "language": "python",
      "name": "python3"
    },
    "language_info": {
      "codemirror_mode": {
        "name": "ipython",
        "version": 2
      },
      "file_extension": ".py",
      "mimetype": "text/x-python",
      "name": "python",
      "nbconvert_exporter": "python",
      "pygments_lexer": "ipython2",
      "version": "2.7.15+"
    },
    "colab": {
      "name": "LR_ML_Project.ipynb",
      "provenance": [],
      "collapsed_sections": []
    }
  },
  "cells": [
    {
      "cell_type": "code",
      "metadata": {
        "id": "u6M7Hj7jwA0z",
        "colab_type": "code",
        "colab": {
          "base_uri": "https://localhost:8080/",
          "height": 71
        },
        "outputId": "eb68d25d-27c5-42ff-bbb6-9b5a04724bb2"
      },
      "source": [
        "import pandas as pd\n",
        "import string\n",
        "import nltk\n",
        "import numpy as np\n",
        "import sklearn\n",
        "import seaborn as sns\n",
        "import re\n",
        "import json\n",
        "from nltk.corpus import stopwords\n",
        "from nltk.stem import WordNetLemmatizer\n",
        "from nltk.tokenize import word_tokenize\n",
        "from sklearn.feature_extraction.text import CountVectorizer\n",
        "from sklearn.linear_model import LogisticRegression\n",
        "from sklearn.decomposition import PCA\n",
        "from sklearn.model_selection import train_test_split\n",
        "from sklearn.preprocessing import minmax_scale\n",
        "from scipy.sparse import hstack\n",
        "from sklearn.metrics import classification_report,accuracy_score,confusion_matrix"
      ],
      "execution_count": 1,
      "outputs": [
        {
          "output_type": "stream",
          "text": [
            "/usr/local/lib/python3.6/dist-packages/statsmodels/tools/_testing.py:19: FutureWarning: pandas.util.testing is deprecated. Use the functions in the public API at pandas.testing instead.\n",
            "  import pandas.util.testing as tm\n"
          ],
          "name": "stderr"
        }
      ]
    },
    {
      "cell_type": "code",
      "metadata": {
        "id": "edD1NC60zi7H",
        "colab_type": "code",
        "outputId": "8ee16af2-bab2-4c9e-cb99-dc5697d5acd9",
        "colab": {
          "base_uri": "https://localhost:8080/",
          "height": 136
        }
      },
      "source": [
        "nltk.download('stopwords')\n",
        "nltk.download('punkt')\n",
        "nltk.download('wordnet')"
      ],
      "execution_count": 2,
      "outputs": [
        {
          "output_type": "stream",
          "text": [
            "[nltk_data] Downloading package stopwords to /root/nltk_data...\n",
            "[nltk_data]   Unzipping corpora/stopwords.zip.\n",
            "[nltk_data] Downloading package punkt to /root/nltk_data...\n",
            "[nltk_data]   Unzipping tokenizers/punkt.zip.\n",
            "[nltk_data] Downloading package wordnet to /root/nltk_data...\n",
            "[nltk_data]   Unzipping corpora/wordnet.zip.\n"
          ],
          "name": "stdout"
        },
        {
          "output_type": "execute_result",
          "data": {
            "text/plain": [
              "True"
            ]
          },
          "metadata": {
            "tags": []
          },
          "execution_count": 2
        }
      ]
    },
    {
      "cell_type": "code",
      "metadata": {
        "id": "dxj3pWlbyFDX",
        "colab_type": "code",
        "outputId": "fa12eb57-3389-4bef-daef-8249d00ccfd1",
        "colab": {
          "base_uri": "https://localhost:8080/",
          "height": 122
        }
      },
      "source": [
        "from google.colab import drive\n",
        "drive.mount('/content/drive')"
      ],
      "execution_count": 3,
      "outputs": [
        {
          "output_type": "stream",
          "text": [
            "Go to this URL in a browser: https://accounts.google.com/o/oauth2/auth?client_id=947318989803-6bn6qk8qdgf4n4g3pfee6491hc0brc4i.apps.googleusercontent.com&redirect_uri=urn%3aietf%3awg%3aoauth%3a2.0%3aoob&response_type=code&scope=email%20https%3a%2f%2fwww.googleapis.com%2fauth%2fdocs.test%20https%3a%2f%2fwww.googleapis.com%2fauth%2fdrive%20https%3a%2f%2fwww.googleapis.com%2fauth%2fdrive.photos.readonly%20https%3a%2f%2fwww.googleapis.com%2fauth%2fpeopleapi.readonly\n",
            "\n",
            "Enter your authorization code:\n",
            "··········\n",
            "Mounted at /content/drive\n"
          ],
          "name": "stdout"
        }
      ]
    },
    {
      "cell_type": "markdown",
      "metadata": {
        "id": "f4-5Mo7Wgj6M",
        "colab_type": "text"
      },
      "source": [
        "**Load Dataset**"
      ]
    },
    {
      "cell_type": "code",
      "metadata": {
        "id": "CXzCE8OsxKe2",
        "colab_type": "code",
        "colab": {}
      },
      "source": [
        "train_data=pd.read_csv(\"/content/drive/My Drive/ML project'20/YelpZip/train_newb.csv\")\n",
        "val_data=pd.read_csv(\"/content/drive/My Drive/ML project'20/YelpZip/val_newb.csv\")\n",
        "test_data=pd.read_csv(\"/content/drive/My Drive/ML project'20/YelpZip/test_newb.csv\")"
      ],
      "execution_count": 0,
      "outputs": []
    },
    {
      "cell_type": "code",
      "metadata": {
        "id": "zSGIgZsxxKdO",
        "colab_type": "code",
        "outputId": "e7e492fd-8556-4a72-c797-22f781e79102",
        "colab": {
          "base_uri": "https://localhost:8080/",
          "height": 479
        }
      },
      "source": [
        "train_data.head()"
      ],
      "execution_count": 5,
      "outputs": [
        {
          "output_type": "execute_result",
          "data": {
            "text/html": [
              "<div>\n",
              "<style scoped>\n",
              "    .dataframe tbody tr th:only-of-type {\n",
              "        vertical-align: middle;\n",
              "    }\n",
              "\n",
              "    .dataframe tbody tr th {\n",
              "        vertical-align: top;\n",
              "    }\n",
              "\n",
              "    .dataframe thead th {\n",
              "        text-align: right;\n",
              "    }\n",
              "</style>\n",
              "<table border=\"1\" class=\"dataframe\">\n",
              "  <thead>\n",
              "    <tr style=\"text-align: right;\">\n",
              "      <th></th>\n",
              "      <th>user_id</th>\n",
              "      <th>product_id</th>\n",
              "      <th>rating</th>\n",
              "      <th>label</th>\n",
              "      <th>date</th>\n",
              "      <th>review_text</th>\n",
              "      <th>day</th>\n",
              "      <th>year</th>\n",
              "      <th>word_count</th>\n",
              "      <th>punctuation_count</th>\n",
              "      <th>char_count</th>\n",
              "      <th>title_count</th>\n",
              "      <th>user_id_no_of_review</th>\n",
              "      <th>user_id_ave_rating</th>\n",
              "      <th>user_id_ave_no_words</th>\n",
              "      <th>user_id_max_review_a_day</th>\n",
              "      <th>product_id_no_of_review</th>\n",
              "      <th>product_id_ave_rating</th>\n",
              "      <th>product_id_ave_no_of_words</th>\n",
              "      <th>product_id_max_review_a_day</th>\n",
              "    </tr>\n",
              "  </thead>\n",
              "  <tbody>\n",
              "    <tr>\n",
              "      <th>0</th>\n",
              "      <td>192117</td>\n",
              "      <td>3237</td>\n",
              "      <td>4.0</td>\n",
              "      <td>-1</td>\n",
              "      <td>2012-12-30</td>\n",
              "      <td>delish! pizza was huge, flavorful and filling!...</td>\n",
              "      <td>Sunday</td>\n",
              "      <td>2012</td>\n",
              "      <td>52</td>\n",
              "      <td>8</td>\n",
              "      <td>296</td>\n",
              "      <td>7</td>\n",
              "      <td>1</td>\n",
              "      <td>4.0</td>\n",
              "      <td>52.0</td>\n",
              "      <td>1</td>\n",
              "      <td>114</td>\n",
              "      <td>4.017544</td>\n",
              "      <td>74.684211</td>\n",
              "      <td>14</td>\n",
              "    </tr>\n",
              "    <tr>\n",
              "      <th>1</th>\n",
              "      <td>83124</td>\n",
              "      <td>2122</td>\n",
              "      <td>4.0</td>\n",
              "      <td>1</td>\n",
              "      <td>2012-01-21</td>\n",
              "      <td>lava's hummus is better than zahav's. there. i...</td>\n",
              "      <td>Saturday</td>\n",
              "      <td>2012</td>\n",
              "      <td>225</td>\n",
              "      <td>34</td>\n",
              "      <td>1233</td>\n",
              "      <td>21</td>\n",
              "      <td>1</td>\n",
              "      <td>4.0</td>\n",
              "      <td>225.0</td>\n",
              "      <td>1</td>\n",
              "      <td>15</td>\n",
              "      <td>3.666667</td>\n",
              "      <td>140.266667</td>\n",
              "      <td>3</td>\n",
              "    </tr>\n",
              "    <tr>\n",
              "      <th>2</th>\n",
              "      <td>137167</td>\n",
              "      <td>3222</td>\n",
              "      <td>2.0</td>\n",
              "      <td>1</td>\n",
              "      <td>2012-08-10</td>\n",
              "      <td>my friend and i decided to come check this pla...</td>\n",
              "      <td>Friday</td>\n",
              "      <td>2012</td>\n",
              "      <td>247</td>\n",
              "      <td>21</td>\n",
              "      <td>1315</td>\n",
              "      <td>11</td>\n",
              "      <td>1</td>\n",
              "      <td>2.0</td>\n",
              "      <td>247.0</td>\n",
              "      <td>1</td>\n",
              "      <td>32</td>\n",
              "      <td>3.500000</td>\n",
              "      <td>82.656250</td>\n",
              "      <td>4</td>\n",
              "    </tr>\n",
              "    <tr>\n",
              "      <th>3</th>\n",
              "      <td>51095</td>\n",
              "      <td>523</td>\n",
              "      <td>3.0</td>\n",
              "      <td>1</td>\n",
              "      <td>2012-04-23</td>\n",
              "      <td>oy vey. i really really wanted to write a good...</td>\n",
              "      <td>Monday</td>\n",
              "      <td>2012</td>\n",
              "      <td>210</td>\n",
              "      <td>52</td>\n",
              "      <td>1184</td>\n",
              "      <td>22</td>\n",
              "      <td>1</td>\n",
              "      <td>3.0</td>\n",
              "      <td>210.0</td>\n",
              "      <td>1</td>\n",
              "      <td>18</td>\n",
              "      <td>3.111111</td>\n",
              "      <td>107.611111</td>\n",
              "      <td>6</td>\n",
              "    </tr>\n",
              "    <tr>\n",
              "      <th>4</th>\n",
              "      <td>194284</td>\n",
              "      <td>2605</td>\n",
              "      <td>4.0</td>\n",
              "      <td>-1</td>\n",
              "      <td>2012-03-22</td>\n",
              "      <td>i heard about the wait and it was worth it. th...</td>\n",
              "      <td>Thursday</td>\n",
              "      <td>2012</td>\n",
              "      <td>21</td>\n",
              "      <td>4</td>\n",
              "      <td>95</td>\n",
              "      <td>2</td>\n",
              "      <td>2</td>\n",
              "      <td>3.5</td>\n",
              "      <td>25.5</td>\n",
              "      <td>2</td>\n",
              "      <td>117</td>\n",
              "      <td>3.837607</td>\n",
              "      <td>124.427350</td>\n",
              "      <td>15</td>\n",
              "    </tr>\n",
              "  </tbody>\n",
              "</table>\n",
              "</div>"
            ],
            "text/plain": [
              "   user_id  product_id  ...  product_id_ave_no_of_words  product_id_max_review_a_day\n",
              "0   192117        3237  ...                   74.684211                           14\n",
              "1    83124        2122  ...                  140.266667                            3\n",
              "2   137167        3222  ...                   82.656250                            4\n",
              "3    51095         523  ...                  107.611111                            6\n",
              "4   194284        2605  ...                  124.427350                           15\n",
              "\n",
              "[5 rows x 20 columns]"
            ]
          },
          "metadata": {
            "tags": []
          },
          "execution_count": 5
        }
      ]
    },
    {
      "cell_type": "code",
      "metadata": {
        "id": "bTyV_eGcxKbm",
        "colab_type": "code",
        "colab": {}
      },
      "source": [
        "X_train=train_data.drop(['user_id','product_id','year','date','label','rating'],axis=1)\n",
        "y_train=train_data.label\n",
        "X_test=test_data.drop(['user_id','product_id','year','date','label'],axis=1)\n",
        "y_test=test_data.label\n",
        "X_valid=val_data.drop(['user_id','product_id','year','date','label'],axis=1)\n",
        "y_valid=val_data.label"
      ],
      "execution_count": 0,
      "outputs": []
    },
    {
      "cell_type": "code",
      "metadata": {
        "id": "onPawQIMwA11",
        "colab_type": "code",
        "colab": {}
      },
      "source": [
        "pd.set_option('mode.chained_assignment', None)"
      ],
      "execution_count": 0,
      "outputs": []
    },
    {
      "cell_type": "markdown",
      "metadata": {
        "id": "1mQBT8IdwA1q",
        "colab_type": "text"
      },
      "source": [
        " **Text Preprocessing**"
      ]
    },
    {
      "cell_type": "code",
      "metadata": {
        "id": "hiLREGzawA1q",
        "colab_type": "code",
        "colab": {}
      },
      "source": [
        "#Function for expanding all the contractions in the paragraph\n",
        "with open(\"/content/drive/My Drive/ML project'20/Contractions.json\",'r') as file:\n",
        "   Contractions=json.load(file)\n",
        "c_re = re.compile('(%s)' % '|'.join(Contractions.keys()))\n",
        "\n",
        "def expandContractions(text, c_re=c_re):\n",
        "    def replace(match):\n",
        "        return Contractions[match.group(0)]\n",
        "    return c_re.sub(replace, text)"
      ],
      "execution_count": 0,
      "outputs": []
    },
    {
      "cell_type": "code",
      "metadata": {
        "scrolled": true,
        "id": "5SES0elZwA1v",
        "colab_type": "code",
        "colab": {}
      },
      "source": [
        "# lowercase,remove digits,punctuations,expand contractions,stopwords and lemmatization\n",
        "stop_words = stopwords.words('english')\n",
        "lemmatizer = WordNetLemmatizer()\n",
        "X_train['review_text']=X_train['review_text'].apply(lambda x : ''.join([c for c in x if not c.isdigit()])) #Remove numeric digits\n",
        "X_train['review_text']=X_train['review_text'].apply(lambda x:  ''.join([c for c in x if c not in string.punctuation]))  # Remove punctuations\n",
        "X_train['review_text']=X_train['review_text'].apply(lambda x: ' '.join([word for word in word_tokenize(x) if word not in stop_words]))\n",
        "X_train['review_text']=X_train['review_text'].apply(lambda x: ' '.join([lemmatizer.lemmatize(word) for word in word_tokenize(x)]))\n",
        "\n",
        "#Val Dataset\n",
        "X_valid['review_text']=X_valid['review_text'].apply(lambda x : ''.join([c for c in x if not c.isdigit()])) #Remove numeric digits\n",
        "X_valid['review_text']=X_valid['review_text'].apply(lambda x:  ''.join([c for c in x if c not in string.punctuation]))  # Remove punctuations\n",
        "X_valid['review_text']=X_valid['review_text'].apply(lambda x: ' '.join([word for word in word_tokenize(x) if word not in stop_words]))\n",
        "X_valid['review_text']=X_valid['review_text'].apply(lambda x: ' '.join([lemmatizer.lemmatize(word) for word in word_tokenize(x)]))\n",
        "\n",
        "# Test Dataset\n",
        "X_test['review_text']=X_test['review_text'].apply(lambda x : ''.join([c for c in x if not c.isdigit()])) #Remove numeric digits\n",
        "X_test['review_text']=X_test['review_text'].apply(lambda x:  ''.join([c for c in x if c not in string.punctuation]))  # Remove punctuations\n",
        "X_test['review_text']=X_test['review_text'].apply(lambda x: ' '.join([word for word in word_tokenize(x) if word not in stop_words]))\n",
        "X_test['review_text']=X_test['review_text'].apply(lambda x: ' '.join([lemmatizer.lemmatize(word) for word in word_tokenize(x)]))"
      ],
      "execution_count": 0,
      "outputs": []
    },
    {
      "cell_type": "markdown",
      "metadata": {
        "colab_type": "text",
        "id": "jH5GddKHx0Bd"
      },
      "source": [
        "## Model"
      ]
    },
    {
      "cell_type": "markdown",
      "metadata": {
        "colab_type": "text",
        "id": "WeizGFpmx0Bf"
      },
      "source": [
        "### Classification on review text + features"
      ]
    },
    {
      "cell_type": "code",
      "metadata": {
        "colab_type": "code",
        "outputId": "43bb7fed-1f96-45b3-cfba-3ff9f57515cb",
        "id": "nVd6fHV_x0Bg",
        "colab": {
          "base_uri": "https://localhost:8080/",
          "height": 119
        }
      },
      "source": [
        "# Count vectorizer for review_text\n",
        "count_vect=CountVectorizer(analyzer='word')\n",
        "count_vect.fit(X_train.review_text)\n",
        "feature_vector_train=count_vect.transform(X_train.review_text)\n",
        "feature_vector_test =count_vect.transform(X_test.review_text)\n",
        "feature_vector_valid =count_vect.transform(X_valid.review_text)\n",
        "\n",
        "#Count Vectorizer for day\n",
        "count_vect_=CountVectorizer(analyzer='word')\n",
        "count_vect_.fit(X_train.day)"
      ],
      "execution_count": 10,
      "outputs": [
        {
          "output_type": "execute_result",
          "data": {
            "text/plain": [
              "CountVectorizer(analyzer='word', binary=False, decode_error='strict',\n",
              "                dtype=<class 'numpy.int64'>, encoding='utf-8', input='content',\n",
              "                lowercase=True, max_df=1.0, max_features=None, min_df=1,\n",
              "                ngram_range=(1, 1), preprocessor=None, stop_words=None,\n",
              "                strip_accents=None, token_pattern='(?u)\\\\b\\\\w\\\\w+\\\\b',\n",
              "                tokenizer=None, vocabulary=None)"
            ]
          },
          "metadata": {
            "tags": []
          },
          "execution_count": 10
        }
      ]
    },
    {
      "cell_type": "code",
      "metadata": {
        "colab_type": "code",
        "id": "IoYplLdIx0Bm",
        "colab": {}
      },
      "source": [
        "# Count vectors + Features\n",
        "feature_vector_train=hstack((feature_vector_train,np.array(X_train[\"user_id_no_of_review\"])[:,None]))\n",
        "feature_vector_train=hstack((feature_vector_train,np.array(X_train[\"user_id_ave_rating\"])[:,None]))\n",
        "feature_vector_train=hstack((feature_vector_train,np.array(X_train[\"user_id_ave_no_words\"])[:,None]))\n",
        "feature_vector_train=hstack((feature_vector_train,np.array(X_train[\"user_id_max_review_a_day\"])[:,None]))\n",
        "feature_vector_train=hstack((feature_vector_train,np.array(X_train[\"product_id_no_of_review\"])[:,None]))\n",
        "feature_vector_train=hstack((feature_vector_train,np.array(X_train[\"product_id_ave_rating\"])[:,None]))\n",
        "feature_vector_train=hstack((feature_vector_train,np.array(X_train[\"product_id_ave_no_of_words\"])[:,None]))\n",
        "feature_vector_train=hstack((feature_vector_train,np.array(X_train[\"product_id_max_review_a_day\"])[:,None]))\n",
        "feature_vector_train=hstack((feature_vector_train,np.array(X_train[\"word_count\"])[:,None]))\n",
        "feature_vector_train=hstack((feature_vector_train,np.array(X_train[\"punctuation_count\"])[:,None]))\n",
        "feature_vector_train=hstack((feature_vector_train,np.array(X_train[\"char_count\"])[:,None]))\n",
        "feature_vector_train=hstack((feature_vector_train,np.array(X_train[\"title_count\"])[:,None]))\n",
        "feature_vector_train=hstack((feature_vector_train,count_vect_.transform(X_train[\"day\"])))\n",
        "\n",
        "feature_vector_valid=hstack((feature_vector_valid,np.array(X_valid[\"user_id_no_of_review\"])[:,None]))\n",
        "feature_vector_valid=hstack((feature_vector_valid,np.array(X_valid[\"user_id_ave_rating\"])[:,None]))\n",
        "feature_vector_valid=hstack((feature_vector_valid,np.array(X_valid[\"user_id_ave_no_words\"])[:,None]))\n",
        "feature_vector_valid=hstack((feature_vector_valid,np.array(X_valid[\"user_id_max_review_a_day\"])[:,None]))\n",
        "feature_vector_valid=hstack((feature_vector_valid,np.array(X_valid[\"product_id_no_of_review\"])[:,None]))\n",
        "feature_vector_valid=hstack((feature_vector_valid,np.array(X_valid[\"product_id_ave_rating\"])[:,None]))\n",
        "feature_vector_valid=hstack((feature_vector_valid,np.array(X_valid[\"product_id_ave_no_of_words\"])[:,None]))\n",
        "feature_vector_valid=hstack((feature_vector_valid,np.array(X_valid[\"product_id_max_review_a_day\"])[:,None]))\n",
        "feature_vector_valid=hstack((feature_vector_valid,np.array(X_valid[\"word_count\"])[:,None]))\n",
        "feature_vector_valid=hstack((feature_vector_valid,np.array(X_valid[\"punctuation_count\"])[:,None]))\n",
        "feature_vector_valid=hstack((feature_vector_valid,np.array(X_valid[\"char_count\"])[:,None]))\n",
        "feature_vector_valid=hstack((feature_vector_valid,np.array(X_valid[\"title_count\"])[:,None]))\n",
        "feature_vector_valid=hstack((feature_vector_valid,count_vect_.transform(X_valid[\"day\"])))\n",
        "\n",
        "\n",
        "feature_vector_test=hstack((feature_vector_test,np.array(X_test[\"user_id_no_of_review\"])[:,None]))\n",
        "feature_vector_test=hstack((feature_vector_test,np.array(X_test[\"user_id_ave_rating\"])[:,None]))\n",
        "feature_vector_test=hstack((feature_vector_test,np.array(X_test[\"user_id_ave_no_words\"])[:,None]))\n",
        "feature_vector_test=hstack((feature_vector_test,np.array(X_test[\"user_id_max_review_a_day\"])[:,None]))\n",
        "feature_vector_test=hstack((feature_vector_test,np.array(X_test[\"product_id_no_of_review\"])[:,None]))\n",
        "feature_vector_test=hstack((feature_vector_test,np.array(X_test[\"product_id_ave_rating\"])[:,None]))\n",
        "feature_vector_test=hstack((feature_vector_test,np.array(X_test[\"product_id_ave_no_of_words\"])[:,None]))\n",
        "feature_vector_test=hstack((feature_vector_test,np.array(X_test[\"product_id_max_review_a_day\"])[:,None]))\n",
        "feature_vector_test=hstack((feature_vector_test,np.array(X_test[\"word_count\"])[:,None]))\n",
        "feature_vector_test=hstack((feature_vector_test,np.array(X_test[\"punctuation_count\"])[:,None]))\n",
        "feature_vector_test=hstack((feature_vector_test,np.array(X_test[\"char_count\"])[:,None]))\n",
        "feature_vector_test=hstack((feature_vector_test,np.array(X_test[\"title_count\"])[:,None]))\n",
        "feature_vector_test=hstack((feature_vector_test,count_vect_.transform(X_test[\"day\"])))"
      ],
      "execution_count": 0,
      "outputs": []
    },
    {
      "cell_type": "code",
      "metadata": {
        "colab_type": "code",
        "outputId": "96665532-2221-41a8-cb03-132d879160fb",
        "id": "hDT4Dj-Mx0Bq",
        "colab": {
          "base_uri": "https://localhost:8080/",
          "height": 153
        }
      },
      "source": [
        "LR= LogisticRegression()\n",
        "LR.fit(feature_vector_train,y_train)\n",
        "predictions_train=LR.predict(feature_vector_train)\n",
        "y_test_pred=LR.predict(feature_vector_test)\n",
        "y_val_pred=LR.predict(feature_vector_valid)"
      ],
      "execution_count": 12,
      "outputs": [
        {
          "output_type": "stream",
          "text": [
            "/usr/local/lib/python3.6/dist-packages/sklearn/linear_model/_logistic.py:940: ConvergenceWarning: lbfgs failed to converge (status=1):\n",
            "STOP: TOTAL NO. of ITERATIONS REACHED LIMIT.\n",
            "\n",
            "Increase the number of iterations (max_iter) or scale the data as shown in:\n",
            "    https://scikit-learn.org/stable/modules/preprocessing.html\n",
            "Please also refer to the documentation for alternative solver options:\n",
            "    https://scikit-learn.org/stable/modules/linear_model.html#logistic-regression\n",
            "  extra_warning_msg=_LOGISTIC_SOLVER_CONVERGENCE_MSG)\n"
          ],
          "name": "stderr"
        }
      ]
    },
    {
      "cell_type": "code",
      "metadata": {
        "colab_type": "code",
        "outputId": "2f31693d-4405-46b1-e55c-13fd5aca9296",
        "id": "8uYtyynsx0Bs",
        "colab": {
          "base_uri": "https://localhost:8080/",
          "height": 51
        }
      },
      "source": [
        "feature_vector_test"
      ],
      "execution_count": 13,
      "outputs": [
        {
          "output_type": "execute_result",
          "data": {
            "text/plain": [
              "<10000x44414 sparse matrix of type '<class 'numpy.float64'>'\n",
              "\twith 542763 stored elements in COOrdinate format>"
            ]
          },
          "metadata": {
            "tags": []
          },
          "execution_count": 13
        }
      ]
    },
    {
      "cell_type": "code",
      "metadata": {
        "colab_type": "code",
        "outputId": "a4f2cfea-daf1-4d89-bb9c-8768f0d5a54b",
        "id": "GMMiRwpxx0Bv",
        "colab": {
          "base_uri": "https://localhost:8080/",
          "height": 578
        }
      },
      "source": [
        "print('\\033[1m'+\"Train Dataset Report:\\n\"+'\\033[0m')\n",
        "print(classification_report(y_train,predictions_train))\n",
        "print('\\033[1m'+\"Validation Dataset Report:\\n\"+'\\033[0m')\n",
        "print(classification_report(y_valid,y_val_pred))\n",
        "print('\\033[1m'+\"Test Dataset Report:\\n\"+'\\033[0m')\n",
        "print(classification_report(y_test,y_test_pred))"
      ],
      "execution_count": 14,
      "outputs": [
        {
          "output_type": "stream",
          "text": [
            "\u001b[1mTrain Dataset Report:\n",
            "\u001b[0m\n",
            "              precision    recall  f1-score   support\n",
            "\n",
            "          -1       0.63      0.73      0.68     12500\n",
            "           1       0.68      0.58      0.62     12500\n",
            "\n",
            "    accuracy                           0.65     25000\n",
            "   macro avg       0.66      0.65      0.65     25000\n",
            "weighted avg       0.66      0.65      0.65     25000\n",
            "\n",
            "\u001b[1mValidation Dataset Report:\n",
            "\u001b[0m\n",
            "              precision    recall  f1-score   support\n",
            "\n",
            "          -1       0.58      0.82      0.68      2500\n",
            "           1       0.69      0.40      0.51      2500\n",
            "\n",
            "    accuracy                           0.61      5000\n",
            "   macro avg       0.63      0.61      0.59      5000\n",
            "weighted avg       0.63      0.61      0.59      5000\n",
            "\n",
            "\u001b[1mTest Dataset Report:\n",
            "\u001b[0m\n",
            "              precision    recall  f1-score   support\n",
            "\n",
            "          -1       0.59      0.79      0.68      5000\n",
            "           1       0.68      0.45      0.55      5000\n",
            "\n",
            "    accuracy                           0.62     10000\n",
            "   macro avg       0.64      0.62      0.61     10000\n",
            "weighted avg       0.64      0.62      0.61     10000\n",
            "\n"
          ],
          "name": "stdout"
        }
      ]
    },
    {
      "cell_type": "code",
      "metadata": {
        "colab_type": "code",
        "outputId": "73ac4c47-10f6-495e-b027-bf01ec2bdcaa",
        "id": "0QqtxLJDx0B0",
        "colab": {
          "base_uri": "https://localhost:8080/",
          "height": 68
        }
      },
      "source": [
        "print(\"Accuracy of LR on train dataset : {ac: .2f}%\".format(ac=accuracy_score(y_train,predictions_train)*100))\n",
        "print(\"Accuracy of LR on valid dataset : {ac: .2f}%\".format(ac=accuracy_score(y_valid,y_val_pred)*100))\n",
        "print(\"Accuracy of LR on test dataset  : {ac: .2f}%\".format(ac=accuracy_score(y_test,y_test_pred)*100))"
      ],
      "execution_count": 21,
      "outputs": [
        {
          "output_type": "stream",
          "text": [
            "Accuracy of LR on train dataset :  65.38%\n",
            "Accuracy of LR on valid dataset :  60.98%\n",
            "Accuracy of LR on test dataset  :  62.10%\n"
          ],
          "name": "stdout"
        }
      ]
    },
    {
      "cell_type": "code",
      "metadata": {
        "colab_type": "code",
        "outputId": "1e3f522f-ad6d-4adf-d007-ed9b86f72859",
        "id": "ojO1LLppx0B4",
        "colab": {
          "base_uri": "https://localhost:8080/",
          "height": 282
        }
      },
      "source": [
        "cm=confusion_matrix(y_test,y_test_pred)\n",
        "sns.heatmap(cm,annot=True)"
      ],
      "execution_count": 23,
      "outputs": [
        {
          "output_type": "execute_result",
          "data": {
            "text/plain": [
              "<matplotlib.axes._subplots.AxesSubplot at 0x7f1879e47780>"
            ]
          },
          "metadata": {
            "tags": []
          },
          "execution_count": 23
        },
        {
          "output_type": "display_data",
          "data": {
            "image/png": "[encoded data removed]",
            "text/plain": [
              "<Figure size 432x288 with 2 Axes>"
            ]
          },
          "metadata": {
            "tags": [],
            "needs_background": "light"
          }
        }
      ]
    },
    {
      "cell_type": "markdown",
      "metadata": {
        "colab_type": "text",
        "id": "NN_yovipx0B-"
      },
      "source": [
        "### Classification on review text"
      ]
    },
    {
      "cell_type": "code",
      "metadata": {
        "colab_type": "code",
        "outputId": "ce59be8d-cdd7-4340-a1c8-4e35557ae358",
        "id": "GH5y5bajx0B_",
        "colab": {
          "base_uri": "https://localhost:8080/",
          "height": 153
        }
      },
      "source": [
        "count_vect=CountVectorizer(analyzer='word')\n",
        "count_vect.fit(X_train.review_text)\n",
        "X_train_count=count_vect.transform(X_train.review_text)\n",
        "X_test_count =count_vect.transform(X_test.review_text)\n",
        "X_valid_count =count_vect.transform(X_valid.review_text)\n",
        "LR= LogisticRegression()\n",
        "LR.fit(X_train_count,y_train)\n",
        "predictions_train=LR.predict(X_train_count)\n",
        "predictions_test=LR.predict(X_test_count)\n",
        "predictions_valid=LR.predict(X_valid_count)"
      ],
      "execution_count": 24,
      "outputs": [
        {
          "output_type": "stream",
          "text": [
            "/usr/local/lib/python3.6/dist-packages/sklearn/linear_model/_logistic.py:940: ConvergenceWarning: lbfgs failed to converge (status=1):\n",
            "STOP: TOTAL NO. of ITERATIONS REACHED LIMIT.\n",
            "\n",
            "Increase the number of iterations (max_iter) or scale the data as shown in:\n",
            "    https://scikit-learn.org/stable/modules/preprocessing.html\n",
            "Please also refer to the documentation for alternative solver options:\n",
            "    https://scikit-learn.org/stable/modules/linear_model.html#logistic-regression\n",
            "  extra_warning_msg=_LOGISTIC_SOLVER_CONVERGENCE_MSG)\n"
          ],
          "name": "stderr"
        }
      ]
    },
    {
      "cell_type": "code",
      "metadata": {
        "scrolled": true,
        "colab_type": "code",
        "outputId": "ca1060c9-f44b-444e-9dc2-859083ea37e6",
        "id": "1MWokxdDx0CF",
        "colab": {
          "base_uri": "https://localhost:8080/",
          "height": 578
        }
      },
      "source": [
        "print('\\033[1m'+\"Train Dataset Report:\\n\"+'\\033[0m')\n",
        "print(classification_report(y_train,predictions_train))\n",
        "print('\\033[1m'+\"Validation Dataset Report:\\n\"+'\\033[0m')\n",
        "print(classification_report(y_valid,predictions_valid))\n",
        "print('\\033[1m'+\"Test Dataset Report:\\n\"+'\\033[0m')\n",
        "print(classification_report(y_test,predictions_test))"
      ],
      "execution_count": 25,
      "outputs": [
        {
          "output_type": "stream",
          "text": [
            "\u001b[1mTrain Dataset Report:\n",
            "\u001b[0m\n",
            "              precision    recall  f1-score   support\n",
            "\n",
            "          -1       0.85      0.92      0.88     12500\n",
            "           1       0.91      0.83      0.87     12500\n",
            "\n",
            "    accuracy                           0.88     25000\n",
            "   macro avg       0.88      0.88      0.88     25000\n",
            "weighted avg       0.88      0.88      0.88     25000\n",
            "\n",
            "\u001b[1mValidation Dataset Report:\n",
            "\u001b[0m\n",
            "              precision    recall  f1-score   support\n",
            "\n",
            "          -1       0.61      0.68      0.65      2500\n",
            "           1       0.64      0.57      0.60      2500\n",
            "\n",
            "    accuracy                           0.62      5000\n",
            "   macro avg       0.63      0.62      0.62      5000\n",
            "weighted avg       0.63      0.62      0.62      5000\n",
            "\n",
            "\u001b[1mTest Dataset Report:\n",
            "\u001b[0m\n",
            "              precision    recall  f1-score   support\n",
            "\n",
            "          -1       0.63      0.71      0.67      5000\n",
            "           1       0.67      0.58      0.62      5000\n",
            "\n",
            "    accuracy                           0.64     10000\n",
            "   macro avg       0.65      0.64      0.64     10000\n",
            "weighted avg       0.65      0.64      0.64     10000\n",
            "\n"
          ],
          "name": "stdout"
        }
      ]
    },
    {
      "cell_type": "code",
      "metadata": {
        "colab_type": "code",
        "outputId": "ff93502f-81f1-47c0-d537-866dda2a3e1f",
        "id": "KYPEdtSzx0CI",
        "colab": {
          "base_uri": "https://localhost:8080/",
          "height": 68
        }
      },
      "source": [
        "print(\"Accuracy of LR on train dataset : {ac: .2f}%\".format(ac=accuracy_score(y_train,predictions_train)*100))\n",
        "print(\"Accuracy of LR on valid dataset : {ac: .2f}%\".format(ac=accuracy_score(y_valid,y_val_pred)*100))\n",
        "print(\"Accuracy of LR on test dataset  : {ac: .2f}%\".format(ac=accuracy_score(y_test,y_test_pred)*100))"
      ],
      "execution_count": 26,
      "outputs": [
        {
          "output_type": "stream",
          "text": [
            "Accuracy of LR on train dataset :  87.62%\n",
            "Accuracy of LR on valid dataset :  60.98%\n",
            "Accuracy of LR on test dataset  :  62.10%\n"
          ],
          "name": "stdout"
        }
      ]
    },
    {
      "cell_type": "code",
      "metadata": {
        "colab_type": "code",
        "outputId": "35d5298b-f30b-4355-fe99-7242f38e0360",
        "id": "6okzAqshx0CL",
        "colab": {
          "base_uri": "https://localhost:8080/",
          "height": 282
        }
      },
      "source": [
        "cm=confusion_matrix(y_test,y_test_pred)\n",
        "sns.heatmap(cm,annot=True)"
      ],
      "execution_count": 27,
      "outputs": [
        {
          "output_type": "execute_result",
          "data": {
            "text/plain": [
              "<matplotlib.axes._subplots.AxesSubplot at 0x7f1879cd52b0>"
            ]
          },
          "metadata": {
            "tags": []
          },
          "execution_count": 27
        },
        {
          "output_type": "display_data",
          "data": {
            "image/png": "[encoded data removed]",
            "text/plain": [
              "<Figure size 432x288 with 2 Axes>"
            ]
          },
          "metadata": {
            "tags": [],
            "needs_background": "light"
          }
        }
      ]
    }
  ]
}