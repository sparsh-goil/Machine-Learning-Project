{
  "nbformat": 4,
  "nbformat_minor": 0,
  "metadata": {
    "colab": {
      "name": "Data_Preprocessing.ipynb",
      "provenance": [],
      "collapsed_sections": []
    },
    "kernelspec": {
      "name": "python3",
      "display_name": "Python 3"
    }
  },
  "cells": [
    {
      "cell_type": "code",
      "metadata": {
        "id": "SJOhAF-qnZJ8",
        "colab_type": "code",
        "outputId": "aaab5248-38e1-4ed6-f82a-1938fefd5565",
        "colab": {
          "base_uri": "https://localhost:8080/",
          "height": 122
        }
      },
      "source": [
        "!pip install Unidecode"
      ],
      "execution_count": 0,
      "outputs": [
        {
          "output_type": "stream",
          "text": [
            "Collecting Unidecode\n",
            "\u001b[?25l  Downloading https://files.pythonhosted.org/packages/d0/42/d9edfed04228bacea2d824904cae367ee9efd05e6cce7ceaaedd0b0ad964/Unidecode-1.1.1-py2.py3-none-any.whl (238kB)\n",
            "\r\u001b[K     |█▍                              | 10kB 22.8MB/s eta 0:00:01\r\u001b[K     |██▊                             | 20kB 1.7MB/s eta 0:00:01\r\u001b[K     |████▏                           | 30kB 2.1MB/s eta 0:00:01\r\u001b[K     |█████▌                          | 40kB 2.4MB/s eta 0:00:01\r\u001b[K     |██████▉                         | 51kB 2.0MB/s eta 0:00:01\r\u001b[K     |████████▎                       | 61kB 2.3MB/s eta 0:00:01\r\u001b[K     |█████████▋                      | 71kB 2.5MB/s eta 0:00:01\r\u001b[K     |███████████                     | 81kB 2.7MB/s eta 0:00:01\r\u001b[K     |████████████▍                   | 92kB 2.9MB/s eta 0:00:01\r\u001b[K     |█████████████▊                  | 102kB 2.8MB/s eta 0:00:01\r\u001b[K     |███████████████▏                | 112kB 2.8MB/s eta 0:00:01\r\u001b[K     |████████████████▌               | 122kB 2.8MB/s eta 0:00:01\r\u001b[K     |█████████████████▉              | 133kB 2.8MB/s eta 0:00:01\r\u001b[K     |███████████████████▎            | 143kB 2.8MB/s eta 0:00:01\r\u001b[K     |████████████████████▋           | 153kB 2.8MB/s eta 0:00:01\r\u001b[K     |██████████████████████          | 163kB 2.8MB/s eta 0:00:01\r\u001b[K     |███████████████████████▍        | 174kB 2.8MB/s eta 0:00:01\r\u001b[K     |████████████████████████▊       | 184kB 2.8MB/s eta 0:00:01\r\u001b[K     |██████████████████████████▏     | 194kB 2.8MB/s eta 0:00:01\r\u001b[K     |███████████████████████████▌    | 204kB 2.8MB/s eta 0:00:01\r\u001b[K     |████████████████████████████▉   | 215kB 2.8MB/s eta 0:00:01\r\u001b[K     |██████████████████████████████▎ | 225kB 2.8MB/s eta 0:00:01\r\u001b[K     |███████████████████████████████▋| 235kB 2.8MB/s eta 0:00:01\r\u001b[K     |████████████████████████████████| 245kB 2.8MB/s \n",
            "\u001b[?25hInstalling collected packages: Unidecode\n",
            "Successfully installed Unidecode-1.1.1\n"
          ],
          "name": "stdout"
        }
      ]
    },
    {
      "cell_type": "code",
      "metadata": {
        "id": "p67DKhxYnbuK",
        "colab_type": "code",
        "colab": {}
      },
      "source": [
        "import pandas as pd\n",
        "import string\n",
        "import nltk\n",
        "import numpy as np\n",
        "import re\n",
        "import json\n",
        "import unidecode\n",
        "import matplotlib.pyplot as plt\n",
        "from nltk.corpus import stopwords\n",
        "from nltk.stem import WordNetLemmatizer\n",
        "from nltk.tokenize import word_tokenize\n",
        "from sklearn.preprocessing import minmax_scale"
      ],
      "execution_count": 0,
      "outputs": []
    },
    {
      "cell_type": "code",
      "metadata": {
        "id": "nIFfkjzYnbpv",
        "colab_type": "code",
        "outputId": "31162a3f-a18e-4275-ab71-0c4dc5629bf1",
        "colab": {
          "base_uri": "https://localhost:8080/",
          "height": 102
        }
      },
      "source": [
        "nltk.download('stopwords')\n",
        "nltk.download('punkt')"
      ],
      "execution_count": 0,
      "outputs": [
        {
          "output_type": "stream",
          "text": [
            "[nltk_data] Downloading package stopwords to /root/nltk_data...\n",
            "[nltk_data]   Unzipping corpora/stopwords.zip.\n",
            "[nltk_data] Downloading package punkt to /root/nltk_data...\n",
            "[nltk_data]   Unzipping tokenizers/punkt.zip.\n"
          ],
          "name": "stdout"
        },
        {
          "output_type": "execute_result",
          "data": {
            "text/plain": [
              "True"
            ]
          },
          "metadata": {
            "tags": []
          },
          "execution_count": 4
        }
      ]
    },
    {
      "cell_type": "code",
      "metadata": {
        "id": "n5M8lubNTPO-",
        "colab_type": "code",
        "outputId": "b36b4e22-e75a-4348-bb00-9bd1fee2c394",
        "colab": {
          "base_uri": "https://localhost:8080/",
          "height": 34
        }
      },
      "source": [
        "from google.colab import drive\n",
        "drive.mount('/content/drive')"
      ],
      "execution_count": 0,
      "outputs": [
        {
          "output_type": "stream",
          "text": [
            "Drive already mounted at /content/drive; to attempt to forcibly remount, call drive.mount(\"/content/drive\", force_remount=True).\n"
          ],
          "name": "stdout"
        }
      ]
    },
    {
      "cell_type": "code",
      "metadata": {
        "id": "u_-pMytunblo",
        "colab_type": "code",
        "colab": {}
      },
      "source": [
        "# Load dataset from metadata file\n",
        "file=open(\"/content/drive/My Drive/ML project'20/YelpZip/metadata\")\n",
        "data=file.readlines()\n",
        "file.close()\n",
        "for ind in range(len(data)):\n",
        "    data[ind]=data[ind].split()"
      ],
      "execution_count": 0,
      "outputs": []
    },
    {
      "cell_type": "code",
      "metadata": {
        "id": "1zuFmI5QnbjG",
        "colab_type": "code",
        "colab": {}
      },
      "source": [
        "# Load reviews from reviewcontent file\n",
        "file2=open(\"/content/drive/My Drive/ML project'20/YelpZip/reviewContent\")\n",
        "text=file2.readlines()\n",
        "file2.close()\n",
        "for i in range(len(text)):\n",
        "    text[i]=text[i].split(\"\\t\")\n",
        "text=[t[3] for t in text]"
      ],
      "execution_count": 0,
      "outputs": []
    },
    {
      "cell_type": "code",
      "metadata": {
        "id": "FBNFN3NEnbgg",
        "colab_type": "code",
        "colab": {}
      },
      "source": [
        "Dataset=pd.DataFrame(data,columns=[\"user_id\",'product_id','rating','label','date'])\n",
        "Dataset[\"review_text\"]=text"
      ],
      "execution_count": 0,
      "outputs": []
    },
    {
      "cell_type": "code",
      "metadata": {
        "id": "ZYZE0jnxnbd9",
        "colab_type": "code",
        "colab": {}
      },
      "source": [
        "pd.set_option('mode.chained_assignment', None)"
      ],
      "execution_count": 0,
      "outputs": []
    },
    {
      "cell_type": "code",
      "metadata": {
        "id": "AOE2g5WonsNw",
        "colab_type": "code",
        "colab": {}
      },
      "source": [
        "Dataset['rating']=Dataset['rating'].astype('float')\n",
        "Dataset['date']=pd.to_datetime(Dataset['date'])\n",
        "Dataset['day']=Dataset['date'].dt.day_name()\n",
        "Dataset['year']=Dataset.date.dt.year\n",
        "Dataset['label']=Dataset.label.astype(int)"
      ],
      "execution_count": 0,
      "outputs": []
    },
    {
      "cell_type": "code",
      "metadata": {
        "id": "en0fWiT7nsLE",
        "colab_type": "code",
        "outputId": "f2da4143-dd28-4651-c186-8ad1b284bbed",
        "colab": {
          "base_uri": "https://localhost:8080/",
          "height": 221
        }
      },
      "source": [
        "Y={}\n",
        "for y in Dataset.year:\n",
        "  if y in Y:\n",
        "    Y[y]+=1\n",
        "  else:\n",
        "    Y[y]=0\n",
        "Y"
      ],
      "execution_count": 0,
      "outputs": [
        {
          "output_type": "execute_result",
          "data": {
            "text/plain": [
              "{2004: 2,\n",
              " 2005: 426,\n",
              " 2006: 2261,\n",
              " 2007: 7535,\n",
              " 2008: 16781,\n",
              " 2009: 31907,\n",
              " 2010: 54578,\n",
              " 2011: 80212,\n",
              " 2012: 97961,\n",
              " 2013: 131225,\n",
              " 2014: 180674,\n",
              " 2015: 5024}"
            ]
          },
          "metadata": {
            "tags": []
          },
          "execution_count": 11
        }
      ]
    },
    {
      "cell_type": "markdown",
      "metadata": {
        "id": "5upbwfsYBB9i",
        "colab_type": "text"
      },
      "source": [
        "### **Split Train-Valid-Test Dataset**"
      ]
    },
    {
      "cell_type": "code",
      "metadata": {
        "id": "TpkPLPNnD2r6",
        "colab_type": "code",
        "colab": {}
      },
      "source": [
        "x=Dataset[Dataset.year== 2012]\n",
        "x_real=x[x.label==1]\n",
        "x_fake=x[x.label==-1]\n",
        "train_data=x_real.sample(n=12500)\n",
        "train_data=pd.concat([train_data,x_fake.sample(n=12500)],ignore_index=True)\n",
        "train_data=train_data.sample(frac=1)\n",
        "\n",
        "x=Dataset[Dataset.year== 2013]\n",
        "x_real=x[x.label==1]\n",
        "x_fake=x[x.label==-1]\n",
        "val_data=x_real.sample(n=2500)\n",
        "val_data=pd.concat([val_data,x_fake.sample(n=2500)],ignore_index=True)\n",
        "val_data=val_data.sample(frac=1)\n",
        "\n",
        "x=Dataset[Dataset.year== 2014]\n",
        "test_data=x_real.sample(n=5000)\n",
        "x_real=x[x.label==1]\n",
        "x_fake=x[x.label==-1]\n",
        "test_data=pd.concat([test_data,x_fake.sample(n=5000)],ignore_index=True)\n",
        "test_data=test_data.sample(frac=1)"
      ],
      "execution_count": 0,
      "outputs": []
    },
    {
      "cell_type": "code",
      "metadata": {
        "id": "Kn0RSVZctQgX",
        "colab_type": "code",
        "outputId": "aa11ef4a-90ca-4fe7-a555-6f75c34d18ad",
        "colab": {
          "base_uri": "https://localhost:8080/",
          "height": 419
        }
      },
      "source": [
        "train_data"
      ],
      "execution_count": 0,
      "outputs": [
        {
          "output_type": "execute_result",
          "data": {
            "text/html": [
              "<div>\n",
              "<style scoped>\n",
              "    .dataframe tbody tr th:only-of-type {\n",
              "        vertical-align: middle;\n",
              "    }\n",
              "\n",
              "    .dataframe tbody tr th {\n",
              "        vertical-align: top;\n",
              "    }\n",
              "\n",
              "    .dataframe thead th {\n",
              "        text-align: right;\n",
              "    }\n",
              "</style>\n",
              "<table border=\"1\" class=\"dataframe\">\n",
              "  <thead>\n",
              "    <tr style=\"text-align: right;\">\n",
              "      <th></th>\n",
              "      <th>user_id</th>\n",
              "      <th>product_id</th>\n",
              "      <th>rating</th>\n",
              "      <th>label</th>\n",
              "      <th>date</th>\n",
              "      <th>review_text</th>\n",
              "      <th>day</th>\n",
              "      <th>year</th>\n",
              "    </tr>\n",
              "  </thead>\n",
              "  <tbody>\n",
              "    <tr>\n",
              "      <th>11357</th>\n",
              "      <td>90443</td>\n",
              "      <td>2387</td>\n",
              "      <td>5.0</td>\n",
              "      <td>1</td>\n",
              "      <td>2012-05-26</td>\n",
              "      <td>I have been here twice for breakfast in the pa...</td>\n",
              "      <td>Saturday</td>\n",
              "      <td>2012</td>\n",
              "    </tr>\n",
              "    <tr>\n",
              "      <th>4479</th>\n",
              "      <td>93011</td>\n",
              "      <td>1859</td>\n",
              "      <td>5.0</td>\n",
              "      <td>1</td>\n",
              "      <td>2012-10-10</td>\n",
              "      <td>This place is awesome! Food is great and alway...</td>\n",
              "      <td>Wednesday</td>\n",
              "      <td>2012</td>\n",
              "    </tr>\n",
              "    <tr>\n",
              "      <th>24433</th>\n",
              "      <td>34794</td>\n",
              "      <td>3866</td>\n",
              "      <td>4.0</td>\n",
              "      <td>-1</td>\n",
              "      <td>2012-06-04</td>\n",
              "      <td>service was fast and friendly. Pizza was decen...</td>\n",
              "      <td>Monday</td>\n",
              "      <td>2012</td>\n",
              "    </tr>\n",
              "    <tr>\n",
              "      <th>16268</th>\n",
              "      <td>94638</td>\n",
              "      <td>970</td>\n",
              "      <td>5.0</td>\n",
              "      <td>-1</td>\n",
              "      <td>2012-02-17</td>\n",
              "      <td>This place is great! A cozy and friendly place...</td>\n",
              "      <td>Friday</td>\n",
              "      <td>2012</td>\n",
              "    </tr>\n",
              "    <tr>\n",
              "      <th>20069</th>\n",
              "      <td>172323</td>\n",
              "      <td>2776</td>\n",
              "      <td>5.0</td>\n",
              "      <td>-1</td>\n",
              "      <td>2012-06-10</td>\n",
              "      <td>When I first sat down and looked over the menu...</td>\n",
              "      <td>Sunday</td>\n",
              "      <td>2012</td>\n",
              "    </tr>\n",
              "    <tr>\n",
              "      <th>...</th>\n",
              "      <td>...</td>\n",
              "      <td>...</td>\n",
              "      <td>...</td>\n",
              "      <td>...</td>\n",
              "      <td>...</td>\n",
              "      <td>...</td>\n",
              "      <td>...</td>\n",
              "      <td>...</td>\n",
              "    </tr>\n",
              "    <tr>\n",
              "      <th>15182</th>\n",
              "      <td>103684</td>\n",
              "      <td>1401</td>\n",
              "      <td>5.0</td>\n",
              "      <td>-1</td>\n",
              "      <td>2012-11-19</td>\n",
              "      <td>We were in New York for my daughters 21st birt...</td>\n",
              "      <td>Monday</td>\n",
              "      <td>2012</td>\n",
              "    </tr>\n",
              "    <tr>\n",
              "      <th>15379</th>\n",
              "      <td>86555</td>\n",
              "      <td>1690</td>\n",
              "      <td>4.0</td>\n",
              "      <td>-1</td>\n",
              "      <td>2012-02-13</td>\n",
              "      <td>I LOVE this place.  There are so many great th...</td>\n",
              "      <td>Monday</td>\n",
              "      <td>2012</td>\n",
              "    </tr>\n",
              "    <tr>\n",
              "      <th>12851</th>\n",
              "      <td>59087</td>\n",
              "      <td>1694</td>\n",
              "      <td>4.0</td>\n",
              "      <td>-1</td>\n",
              "      <td>2012-11-12</td>\n",
              "      <td>surprised with some of the reviews... i always...</td>\n",
              "      <td>Monday</td>\n",
              "      <td>2012</td>\n",
              "    </tr>\n",
              "    <tr>\n",
              "      <th>19819</th>\n",
              "      <td>229634</td>\n",
              "      <td>4083</td>\n",
              "      <td>5.0</td>\n",
              "      <td>-1</td>\n",
              "      <td>2012-06-20</td>\n",
              "      <td>I love this place.  Sometimes simplicity is th...</td>\n",
              "      <td>Wednesday</td>\n",
              "      <td>2012</td>\n",
              "    </tr>\n",
              "    <tr>\n",
              "      <th>5431</th>\n",
              "      <td>17542</td>\n",
              "      <td>2982</td>\n",
              "      <td>4.0</td>\n",
              "      <td>1</td>\n",
              "      <td>2012-04-01</td>\n",
              "      <td>This is a great place for lunch. Inexpensive, ...</td>\n",
              "      <td>Sunday</td>\n",
              "      <td>2012</td>\n",
              "    </tr>\n",
              "  </tbody>\n",
              "</table>\n",
              "<p>25000 rows × 8 columns</p>\n",
              "</div>"
            ],
            "text/plain": [
              "      user_id product_id  ...        day  year\n",
              "11357   90443       2387  ...   Saturday  2012\n",
              "4479    93011       1859  ...  Wednesday  2012\n",
              "24433   34794       3866  ...     Monday  2012\n",
              "16268   94638        970  ...     Friday  2012\n",
              "20069  172323       2776  ...     Sunday  2012\n",
              "...       ...        ...  ...        ...   ...\n",
              "15182  103684       1401  ...     Monday  2012\n",
              "15379   86555       1690  ...     Monday  2012\n",
              "12851   59087       1694  ...     Monday  2012\n",
              "19819  229634       4083  ...  Wednesday  2012\n",
              "5431    17542       2982  ...     Sunday  2012\n",
              "\n",
              "[25000 rows x 8 columns]"
            ]
          },
          "metadata": {
            "tags": []
          },
          "execution_count": 13
        }
      ]
    },
    {
      "cell_type": "markdown",
      "metadata": {
        "colab_type": "text",
        "id": "7ZbX7dZUE5ll"
      },
      "source": [
        "### **Hand Crafted Features**"
      ]
    },
    {
      "cell_type": "code",
      "metadata": {
        "colab_type": "code",
        "outputId": "c0536c7c-029b-4ace-fe1f-b0ded3d6586a",
        "id": "UhfVfEp6E5lo",
        "colab": {
          "base_uri": "https://localhost:8080/",
          "height": 238
        }
      },
      "source": [
        "\n",
        "#Train Dataset\n",
        "#Review centric features\n",
        "train_data['word_count']=train_data['review_text'].apply(lambda x: len(x.split()))\n",
        "train_data['punctuation_count']=train_data['review_text'].apply(lambda x: len(''.join(c for c in x if c in string.punctuation)))\n",
        "train_data['char_count']=train_data['review_text'].apply(lambda x: len(x))\n",
        "train_data['title_count']=train_data['review_text'].apply(lambda x: len([word for word in x.split() if word.istitle()]))\n",
        "print(\"-----------review_centric features extracted-------------/\")\n",
        "# user-centric features\n",
        "train_data['user_id_no_of_review'] = train_data.groupby('user_id')['user_id'].transform('size')\n",
        "train_data['user_id_ave_rating'] = train_data.groupby('user_id')['rating'].transform('mean')\n",
        "train_data['user_id_ave_no_words'] = train_data.groupby('user_id')['word_count'].transform('mean')\n",
        "train_data['user_id_max_review_a_day'] = train_data.groupby(['user_id','day'])['user_id'].transform('size')\n",
        "print(\"-----------user_centric features extracted-------------/\")\n",
        "#Product centric feature\n",
        "train_data['product_id_no_of_review']=train_data.groupby('product_id')['product_id'].transform('size')\n",
        "train_data['product_id_ave_rating']=train_data.groupby('product_id')['rating'].transform('mean')\n",
        "train_data['product_id_ave_no_of_words']=train_data.groupby('product_id')['word_count'].transform('mean')\n",
        "train_data['product_id_max_review_a_day']=train_data.groupby(['product_id','day'])['user_id'].transform('size')\n",
        "print(\"-----------product_centric features extracted-------------/\\n\\n\")\n",
        "\n",
        "#Val dataset\n",
        "#Review centric features\n",
        "val_data['word_count']=val_data['review_text'].apply(lambda x: len(x.split()))\n",
        "val_data['punctuation_count']=val_data['review_text'].apply(lambda x: len(''.join(c for c in x if c in string.punctuation)))\n",
        "val_data['char_count']=val_data['review_text'].apply(lambda x: len(x))\n",
        "val_data['title_count']=val_data['review_text'].apply(lambda x: len([word for word in x.split() if word.istitle()]))\n",
        "print(\"-----------review_centric features extracted-------------/\")\n",
        "# user-centric features\n",
        "val_data['user_id_no_of_review'] = val_data.groupby('user_id')['user_id'].transform('size')\n",
        "val_data['user_id_ave_rating'] = val_data.groupby('user_id')['rating'].transform('mean')\n",
        "val_data['user_id_ave_no_words'] = val_data.groupby('user_id')['word_count'].transform('mean')\n",
        "val_data['user_id_max_review_a_day'] = val_data.groupby(['user_id','day'])['user_id'].transform('size')\n",
        "print(\"-----------user_centric features extracted-------------/\")\n",
        "#Product centric feature\n",
        "val_data['product_id_no_of_review']=val_data.groupby('product_id')['product_id'].transform('size')\n",
        "val_data['product_id_ave_rating']=val_data.groupby('product_id')['rating'].transform('mean')\n",
        "val_data['product_id_ave_no_of_words']=val_data.groupby('product_id')['word_count'].transform('mean')\n",
        "val_data['product_id_max_review_a_day']=val_data.groupby(['product_id','day'])['user_id'].transform('size')\n",
        "print(\"-----------product_centric features extracted-------------/\\n\\n\")\n",
        "\n",
        "#Test dataset\n",
        "test_data['word_count']=test_data['review_text'].apply(lambda x: len(x.split()))\n",
        "test_data['punctuation_count']=test_data['review_text'].apply(lambda x: len(''.join(c for c in x if c in string.punctuation)))\n",
        "test_data['char_count']=test_data['review_text'].apply(lambda x: len(x))\n",
        "test_data['title_count']=test_data['review_text'].apply(lambda x: len([word for word in x.split() if word.istitle()]))\n",
        "print(\"-----------review_centric features extracted-------------/\")\n",
        "# user-centric features\n",
        "test_data['user_id_no_of_review'] = test_data.groupby('user_id')['user_id'].transform('size')\n",
        "test_data['user_id_ave_rating'] = test_data.groupby('user_id')['rating'].transform('mean')\n",
        "test_data['user_id_ave_no_words'] = test_data.groupby('user_id')['word_count'].transform('mean')\n",
        "test_data['user_id_max_review_a_day'] = test_data.groupby(['user_id','day'])['user_id'].transform('size')\n",
        "print(\"-----------user_centric features extracted-------------/\")\n",
        "#Product centric feature\n",
        "test_data['product_id_no_of_review']=test_data.groupby('product_id')['product_id'].transform('size')\n",
        "test_data['product_id_ave_rating']=test_data.groupby('product_id')['rating'].transform('mean')\n",
        "test_data['product_id_ave_no_of_words']=test_data.groupby('product_id')['word_count'].transform('mean')\n",
        "test_data['product_id_max_review_a_day']=test_data.groupby(['product_id','day'])['user_id'].transform('size')\n",
        "print(\"-----------product_centric features extracted-------------/\")"
      ],
      "execution_count": 0,
      "outputs": [
        {
          "output_type": "stream",
          "text": [
            "-----------review_centric features extracted-------------/\n",
            "-----------user_centric features extracted-------------/\n",
            "-----------product_centric features extracted-------------/\n",
            "\n",
            "\n",
            "-----------review_centric features extracted-------------/\n",
            "-----------user_centric features extracted-------------/\n",
            "-----------product_centric features extracted-------------/\n",
            "\n",
            "\n",
            "-----------review_centric features extracted-------------/\n",
            "-----------user_centric features extracted-------------/\n",
            "-----------product_centric features extracted-------------/\n"
          ],
          "name": "stdout"
        }
      ]
    },
    {
      "cell_type": "markdown",
      "metadata": {
        "id": "fD63OU55rud9",
        "colab_type": "text"
      },
      "source": [
        "### **Text Preprocessing**"
      ]
    },
    {
      "cell_type": "code",
      "metadata": {
        "id": "D18TFeIUAH9a",
        "colab_type": "code",
        "colab": {}
      },
      "source": [
        "#Function for expanding all the contractions in the paragraph\n",
        "with open(\"/content/drive/My Drive/ML project'20/Contractions.json\",'r') as file:\n",
        "   Contractions=json.load(file)\n",
        "c_re = re.compile('(%s)' % '|'.join(Contractions.keys()))\n",
        "\n",
        "def expandContractions(text, c_re=c_re):\n",
        "    def replace(match):\n",
        "        return Contractions[match.group(0)]\n",
        "    return c_re.sub(replace, text)"
      ],
      "execution_count": 0,
      "outputs": []
    },
    {
      "cell_type": "code",
      "metadata": {
        "id": "VQ-BdKFTFPb0",
        "colab_type": "code",
        "colab": {}
      },
      "source": [
        "# lowercase,remove digits,punctuations,expand contractions,stopwords and lemmatization\n",
        "stop_words = stopwords.words('english')\n",
        "lemmatizer = WordNetLemmatizer()\n",
        "train_data['review_text']=train_data['review_text'].apply(lambda x:unidecode.unidecode(x))  #Remove accented characters\n",
        "train_data['review_text']=train_data['review_text'].apply(lambda x: expandContractions(x))  # expand contractions(eg. I've to I have) \n",
        "train_data['review_text']=train_data['review_text'].apply(lambda x:x.lower())   #Convert into lowercase\n",
        "\n",
        "#Val dataset\n",
        "val_data['review_text']=val_data['review_text'].apply(lambda x:unidecode.unidecode(x))  #Remove accented characters\n",
        "val_data['review_text']=val_data['review_text'].apply(lambda x: expandContractions(x))  # expand contractions(eg. I've to I have) \n",
        "val_data['review_text']=val_data['review_text'].apply(lambda x:x.lower())   #Convert into lowercase\n",
        "\n",
        "\n",
        "# Test Dataset\n",
        "test_data['review_text']=test_data['review_text'].apply(lambda x: unidecode.unidecode(x))\n",
        "test_data['review_text']=test_data['review_text'].apply(lambda x: expandContractions(x))\n",
        "test_data['review_text']=test_data['review_text'].apply(lambda x:x.lower())   #Convert into lowercase\n"
      ],
      "execution_count": 0,
      "outputs": []
    },
    {
      "cell_type": "markdown",
      "metadata": {
        "id": "WRkh6TA0LFmj",
        "colab_type": "text"
      },
      "source": [
        "### **Data Visualization**"
      ]
    },
    {
      "cell_type": "code",
      "metadata": {
        "id": "K-NA3ZbGLK4-",
        "colab_type": "code",
        "outputId": "6ee726fb-ec18-47b2-854f-740587d3d283",
        "colab": {
          "base_uri": "https://localhost:8080/",
          "height": 479
        }
      },
      "source": [
        "train_data.head()"
      ],
      "execution_count": 0,
      "outputs": [
        {
          "output_type": "execute_result",
          "data": {
            "text/html": [
              "<div>\n",
              "<style scoped>\n",
              "    .dataframe tbody tr th:only-of-type {\n",
              "        vertical-align: middle;\n",
              "    }\n",
              "\n",
              "    .dataframe tbody tr th {\n",
              "        vertical-align: top;\n",
              "    }\n",
              "\n",
              "    .dataframe thead th {\n",
              "        text-align: right;\n",
              "    }\n",
              "</style>\n",
              "<table border=\"1\" class=\"dataframe\">\n",
              "  <thead>\n",
              "    <tr style=\"text-align: right;\">\n",
              "      <th></th>\n",
              "      <th>user_id</th>\n",
              "      <th>product_id</th>\n",
              "      <th>rating</th>\n",
              "      <th>label</th>\n",
              "      <th>date</th>\n",
              "      <th>review_text</th>\n",
              "      <th>day</th>\n",
              "      <th>year</th>\n",
              "      <th>word_count</th>\n",
              "      <th>punctuation_count</th>\n",
              "      <th>char_count</th>\n",
              "      <th>title_count</th>\n",
              "      <th>user_id_no_of_review</th>\n",
              "      <th>user_id_ave_rating</th>\n",
              "      <th>user_id_ave_no_words</th>\n",
              "      <th>user_id_max_review_a_day</th>\n",
              "      <th>product_id_no_of_review</th>\n",
              "      <th>product_id_ave_rating</th>\n",
              "      <th>product_id_ave_no_of_words</th>\n",
              "      <th>product_id_max_review_a_day</th>\n",
              "    </tr>\n",
              "  </thead>\n",
              "  <tbody>\n",
              "    <tr>\n",
              "      <th>11357</th>\n",
              "      <td>90443</td>\n",
              "      <td>2387</td>\n",
              "      <td>5.0</td>\n",
              "      <td>1</td>\n",
              "      <td>2012-05-26</td>\n",
              "      <td>i have been here twice for breakfast in the pa...</td>\n",
              "      <td>Saturday</td>\n",
              "      <td>2012</td>\n",
              "      <td>44</td>\n",
              "      <td>5</td>\n",
              "      <td>267</td>\n",
              "      <td>2</td>\n",
              "      <td>1</td>\n",
              "      <td>5.0</td>\n",
              "      <td>44.00</td>\n",
              "      <td>1</td>\n",
              "      <td>9</td>\n",
              "      <td>4.111111</td>\n",
              "      <td>88.444444</td>\n",
              "      <td>2</td>\n",
              "    </tr>\n",
              "    <tr>\n",
              "      <th>4479</th>\n",
              "      <td>93011</td>\n",
              "      <td>1859</td>\n",
              "      <td>5.0</td>\n",
              "      <td>1</td>\n",
              "      <td>2012-10-10</td>\n",
              "      <td>this place is awesome! food is great and alway...</td>\n",
              "      <td>Wednesday</td>\n",
              "      <td>2012</td>\n",
              "      <td>88</td>\n",
              "      <td>14</td>\n",
              "      <td>503</td>\n",
              "      <td>17</td>\n",
              "      <td>2</td>\n",
              "      <td>4.5</td>\n",
              "      <td>87.50</td>\n",
              "      <td>1</td>\n",
              "      <td>92</td>\n",
              "      <td>3.380435</td>\n",
              "      <td>121.271739</td>\n",
              "      <td>10</td>\n",
              "    </tr>\n",
              "    <tr>\n",
              "      <th>24433</th>\n",
              "      <td>34794</td>\n",
              "      <td>3866</td>\n",
              "      <td>4.0</td>\n",
              "      <td>-1</td>\n",
              "      <td>2012-06-04</td>\n",
              "      <td>service was fast and friendly. pizza was decen...</td>\n",
              "      <td>Monday</td>\n",
              "      <td>2012</td>\n",
              "      <td>11</td>\n",
              "      <td>2</td>\n",
              "      <td>70</td>\n",
              "      <td>1</td>\n",
              "      <td>4</td>\n",
              "      <td>4.0</td>\n",
              "      <td>22.25</td>\n",
              "      <td>2</td>\n",
              "      <td>9</td>\n",
              "      <td>3.444444</td>\n",
              "      <td>51.666667</td>\n",
              "      <td>3</td>\n",
              "    </tr>\n",
              "    <tr>\n",
              "      <th>16268</th>\n",
              "      <td>94638</td>\n",
              "      <td>970</td>\n",
              "      <td>5.0</td>\n",
              "      <td>-1</td>\n",
              "      <td>2012-02-17</td>\n",
              "      <td>this place is great! a cozy and friendly place...</td>\n",
              "      <td>Friday</td>\n",
              "      <td>2012</td>\n",
              "      <td>45</td>\n",
              "      <td>13</td>\n",
              "      <td>268</td>\n",
              "      <td>3</td>\n",
              "      <td>1</td>\n",
              "      <td>5.0</td>\n",
              "      <td>45.00</td>\n",
              "      <td>1</td>\n",
              "      <td>19</td>\n",
              "      <td>4.105263</td>\n",
              "      <td>100.736842</td>\n",
              "      <td>3</td>\n",
              "    </tr>\n",
              "    <tr>\n",
              "      <th>20069</th>\n",
              "      <td>172323</td>\n",
              "      <td>2776</td>\n",
              "      <td>5.0</td>\n",
              "      <td>-1</td>\n",
              "      <td>2012-06-10</td>\n",
              "      <td>when i first sat down and looked over the menu...</td>\n",
              "      <td>Sunday</td>\n",
              "      <td>2012</td>\n",
              "      <td>101</td>\n",
              "      <td>14</td>\n",
              "      <td>545</td>\n",
              "      <td>11</td>\n",
              "      <td>2</td>\n",
              "      <td>5.0</td>\n",
              "      <td>85.50</td>\n",
              "      <td>2</td>\n",
              "      <td>36</td>\n",
              "      <td>3.916667</td>\n",
              "      <td>132.166667</td>\n",
              "      <td>8</td>\n",
              "    </tr>\n",
              "  </tbody>\n",
              "</table>\n",
              "</div>"
            ],
            "text/plain": [
              "      user_id  ... product_id_max_review_a_day\n",
              "11357   90443  ...                           2\n",
              "4479    93011  ...                          10\n",
              "24433   34794  ...                           3\n",
              "16268   94638  ...                           3\n",
              "20069  172323  ...                           8\n",
              "\n",
              "[5 rows x 20 columns]"
            ]
          },
          "metadata": {
            "tags": []
          },
          "execution_count": 17
        }
      ]
    },
    {
      "cell_type": "code",
      "metadata": {
        "id": "NKVomFgzLuEj",
        "colab_type": "code",
        "colab": {}
      },
      "source": [
        "day_of_week_real= train_data[train_data.label==1].groupby('day')\n",
        "day_of_week_fake= train_data[train_data.label==-1].groupby('day')\n",
        "days=['Monday','Tuesday','Wednesday','Thursday','Friday','Saturday','Sunday']\n",
        "count_r=np.zeros(7)\n",
        "count_f=np.zeros(7)\n",
        "for day in day_of_week_real:\n",
        "  count_r[days.index(day[0])]=(day[1].shape[0])\n",
        "for day in day_of_week_fake:\n",
        "  count_f[days.index(day[0])]=(day[1].shape[0])"
      ],
      "execution_count": 0,
      "outputs": []
    },
    {
      "cell_type": "code",
      "metadata": {
        "id": "Ukhr4KUXPsPM",
        "colab_type": "code",
        "outputId": "e1387063-8e7d-4f31-df66-e79b4fb26d9f",
        "colab": {
          "base_uri": "https://localhost:8080/",
          "height": 295
        }
      },
      "source": [
        "plt.plot(days,count_r,label='Real')\n",
        "plt.plot(days,count_f,label='Fake')\n",
        "plt.legend(loc='upper left')\n",
        "plt.xlabel('day')\n",
        "plt.ylabel('No. of reviews')\n",
        "plt.title('days_of_week')\n",
        "plt.legend()\n",
        "plt.show()"
      ],
      "execution_count": 0,
      "outputs": [
        {
          "output_type": "display_data",
          "data": {
            "image/png": "[encoded data removed]",
            "text/plain": [
              "<Figure size 432x288 with 1 Axes>"
            ]
          },
          "metadata": {
            "tags": [],
            "needs_background": "light"
          }
        }
      ]
    },
    {
      "cell_type": "code",
      "metadata": {
        "id": "pIm08vsXVMzE",
        "colab_type": "code",
        "colab": {}
      },
      "source": [
        "real_rating=train_data[train_data.label==1].groupby('rating')\n",
        "fake_rating=train_data[train_data.label==-1].groupby('rating')\n",
        "rating=[r[0] for r in real_rating]\n",
        "rating_r=[r[1].shape[0]/12500 for r in real_rating]\n",
        "rating_f=[r[1].shape[0]/12500 for r in fake_rating]"
      ],
      "execution_count": 0,
      "outputs": []
    },
    {
      "cell_type": "code",
      "metadata": {
        "id": "pejggv6cW-4E",
        "colab_type": "code",
        "outputId": "c0bf0258-8752-4fcb-90d3-2a021d707297",
        "colab": {
          "base_uri": "https://localhost:8080/",
          "height": 295
        }
      },
      "source": [
        "plt.step(rating,np.cumsum(rating_r),label='Real',where='post')\n",
        "plt.step(rating,np.cumsum(rating_f),label='Fake',where='post')\n",
        "plt.legend(loc='upper left')\n",
        "plt.xlabel('Rating')\n",
        "plt.title('review_rating_CDF')\n",
        "plt.legend()\n",
        "plt.show()"
      ],
      "execution_count": 0,
      "outputs": [
        {
          "output_type": "display_data",
          "data": {
            "image/png": "[encoded data removed]",
            "text/plain": [
              "<Figure size 432x288 with 1 Axes>"
            ]
          },
          "metadata": {
            "tags": [],
            "needs_background": "light"
          }
        }
      ]
    },
    {
      "cell_type": "code",
      "metadata": {
        "id": "R_HDXLbYfc21",
        "colab_type": "code",
        "colab": {}
      },
      "source": [
        "real_rating=train_data[train_data.label==1].groupby('word_count')\n",
        "fake_rating=train_data[train_data.label==-1].groupby('word_count')\n",
        "# rating=[r[0] for r in real_rating]\n",
        "count_r=[w[0] for w in real_rating]\n",
        "count_f=[w[0] for w in fake_rating]\n",
        "word_count_r=[w[1].shape[0]/12500 for w in real_rating]\n",
        "word_count_f=[w[1].shape[0]/12500 for w in fake_rating]"
      ],
      "execution_count": 0,
      "outputs": []
    },
    {
      "cell_type": "code",
      "metadata": {
        "id": "LOn3SfG2gvol",
        "colab_type": "code",
        "outputId": "ebc3026e-62a0-462b-dd8d-570f51bcabcd",
        "colab": {
          "base_uri": "https://localhost:8080/",
          "height": 296
        }
      },
      "source": [
        "plt.step(count_r,np.cumsum(word_count_r),label='Real',where='post')\n",
        "plt.step(count_f,np.cumsum(word_count_f),color='red',label='Fake',where='post')\n",
        "plt.legend(loc='lower left')\n",
        "plt.xlabel('word_count')\n",
        "plt.title('review word_count CDF')\n",
        "plt.legend()\n",
        "plt.show()"
      ],
      "execution_count": 0,
      "outputs": [
        {
          "output_type": "display_data",
          "data": {
            "image/png": "[encoded data removed]",
            "text/plain": [
              "<Figure size 432x288 with 1 Axes>"
            ]
          },
          "metadata": {
            "tags": [],
            "needs_background": "light"
          }
        }
      ]
    },
    {
      "cell_type": "code",
      "metadata": {
        "id": "IvpdwPtnhbzF",
        "colab_type": "code",
        "colab": {}
      },
      "source": [
        "real_rating=train_data[train_data.label==1].groupby('user_id_max_review_a_day')\n",
        "fake_rating=train_data[train_data.label==-1].groupby('user_id_max_review_a_day')\n",
        "# rating=[r[0] for r in real_rating]\n",
        "count_r=[w[0] for w in real_rating]\n",
        "count_f=[w[0] for w in fake_rating]\n",
        "word_count_r=[w[1].shape[0]/12500 for w in real_rating]\n",
        "word_count_f=[w[1].shape[0]/12500 for w in fake_rating]"
      ],
      "execution_count": 0,
      "outputs": []
    },
    {
      "cell_type": "code",
      "metadata": {
        "id": "fj3IkdIphoaR",
        "colab_type": "code",
        "outputId": "28566342-da86-40d7-b6cc-85c12f61f7da",
        "colab": {
          "base_uri": "https://localhost:8080/",
          "height": 296
        }
      },
      "source": [
        "plt.step(count_r,np.cumsum(word_count_r),label='Real',where='post')\n",
        "plt.step(count_f,np.cumsum(word_count_f),color='red',label='Fake',where='post')\n",
        "plt.legend(loc='lower left')\n",
        "plt.xlabel('max_review_a_day')\n",
        "plt.title('User_id max_review_a_day CDF')\n",
        "plt.legend()\n",
        "plt.show()"
      ],
      "execution_count": 0,
      "outputs": [
        {
          "output_type": "display_data",
          "data": {
            "image/png": "[encoded data removed]",
            "text/plain": [
              "<Figure size 432x288 with 1 Axes>"
            ]
          },
          "metadata": {
            "tags": [],
            "needs_background": "light"
          }
        }
      ]
    },
    {
      "cell_type": "markdown",
      "metadata": {
        "id": "BfSZJUZjsWRL",
        "colab_type": "text"
      },
      "source": [
        "#### **Save Train, Valid and test csv file**"
      ]
    },
    {
      "cell_type": "code",
      "metadata": {
        "id": "av9Sm4nhFnb-",
        "colab_type": "code",
        "colab": {}
      },
      "source": [
        "train_data.to_csv(\"/content/drive/My Drive/ML project'20/YelpZip/train_newb.csv\",index=False)\n",
        "val_data.to_csv(\"/content/drive/My Drive/ML project'20/YelpZip/val_newb.csv\",index=False)\n",
        "test_data.to_csv(\"/content/drive/My Drive/ML project'20/YelpZip/test_newb.csv\",index=False)"
      ],
      "execution_count": 0,
      "outputs": []
    }
  ]
}