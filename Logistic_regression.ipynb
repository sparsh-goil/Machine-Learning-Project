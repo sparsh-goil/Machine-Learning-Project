{
  "nbformat": 4,
  "nbformat_minor": 0,
  "metadata": {
    "kernelspec": {
      "display_name": "Python 3",
      "language": "python",
      "name": "python3"
    },
    "language_info": {
      "codemirror_mode": {
        "name": "ipython",
        "version": 2
      },
      "file_extension": ".py",
      "mimetype": "text/x-python",
      "name": "python",
      "nbconvert_exporter": "python",
      "pygments_lexer": "ipython2",
      "version": "2.7.15+"
    },
    "colab": {
      "name": "Logistic_regression (2).ipynb",
      "provenance": [],
      "collapsed_sections": []
    }
  },
  "cells": [
    {
      "cell_type": "code",
      "metadata": {
        "id": "C7IZIea-z7SA",
        "colab_type": "code",
        "colab": {
          "base_uri": "https://localhost:8080/",
          "height": 34
        },
        "outputId": "9cecca88-30f3-4103-ca61-79e23de72f1f"
      },
      "source": [
        "!pip install Unidecode"
      ],
      "execution_count": 81,
      "outputs": [
        {
          "output_type": "stream",
          "text": [
            "Requirement already satisfied: Unidecode in /usr/local/lib/python3.6/dist-packages (1.1.1)\n"
          ],
          "name": "stdout"
        }
      ]
    },
    {
      "cell_type": "code",
      "metadata": {
        "id": "u6M7Hj7jwA0z",
        "colab_type": "code",
        "colab": {}
      },
      "source": [
        "import pandas as pd\n",
        "import string\n",
        "import nltk\n",
        "import numpy as np\n",
        "import sklearn\n",
        "import unidecode\n",
        "import seaborn as sns\n",
        "import re\n",
        "import json\n",
        "from nltk.corpus import stopwords\n",
        "from nltk.stem import WordNetLemmatizer\n",
        "from nltk.tokenize import word_tokenize\n",
        "from sklearn.feature_extraction.text import CountVectorizer\n",
        "from sklearn.linear_model import LogisticRegression\n",
        "from sklearn.decomposition import PCA\n",
        "from sklearn.model_selection import train_test_split\n",
        "from sklearn.preprocessing import minmax_scale\n",
        "from scipy.sparse import hstack\n",
        "from sklearn.metrics import classification_report,accuracy_score,confusion_matrix"
      ],
      "execution_count": 0,
      "outputs": []
    },
    {
      "cell_type": "code",
      "metadata": {
        "id": "CXzCE8OsxKe2",
        "colab_type": "code",
        "colab": {}
      },
      "source": [
        "train_data=pd.read_csv(\"/content/drive/My Drive/ML project'20/YelpZip/train.csv\")\n",
        "test_data=pd.read_csv(\"/content/drive/My Drive/ML project'20/YelpZip/test.csv\")"
      ],
      "execution_count": 0,
      "outputs": []
    },
    {
      "cell_type": "code",
      "metadata": {
        "id": "dxj3pWlbyFDX",
        "colab_type": "code",
        "colab": {
          "base_uri": "https://localhost:8080/",
          "height": 54
        },
        "outputId": "9127d948-7555-467e-8451-c7f3f3958cc1"
      },
      "source": [
        "from google.colab import drive\n",
        "drive.mount('/content/drive')"
      ],
      "execution_count": 84,
      "outputs": [
        {
          "output_type": "stream",
          "text": [
            "Drive already mounted at /content/drive; to attempt to forcibly remount, call drive.mount(\"/content/drive\", force_remount=True).\n"
          ],
          "name": "stdout"
        }
      ]
    },
    {
      "cell_type": "code",
      "metadata": {
        "id": "edD1NC60zi7H",
        "colab_type": "code",
        "colab": {
          "base_uri": "https://localhost:8080/",
          "height": 136
        },
        "outputId": "ab72cfb1-c1d4-4047-dcb7-5554c4348baf"
      },
      "source": [
        "nltk.download('stopwords')\n",
        "nltk.download('punkt')\n",
        "nltk.download('wordnet')"
      ],
      "execution_count": 85,
      "outputs": [
        {
          "output_type": "stream",
          "text": [
            "[nltk_data] Downloading package stopwords to /root/nltk_data...\n",
            "[nltk_data]   Package stopwords is already up-to-date!\n",
            "[nltk_data] Downloading package punkt to /root/nltk_data...\n",
            "[nltk_data]   Package punkt is already up-to-date!\n",
            "[nltk_data] Downloading package wordnet to /root/nltk_data...\n",
            "[nltk_data]   Package wordnet is already up-to-date!\n"
          ],
          "name": "stdout"
        },
        {
          "output_type": "execute_result",
          "data": {
            "text/plain": [
              "True"
            ]
          },
          "metadata": {
            "tags": []
          },
          "execution_count": 85
        }
      ]
    },
    {
      "cell_type": "code",
      "metadata": {
        "id": "zSGIgZsxxKdO",
        "colab_type": "code",
        "colab": {
          "base_uri": "https://localhost:8080/",
          "height": 479
        },
        "outputId": "5874a456-8474-4ad3-f106-c163c777587c"
      },
      "source": [
        "train_data.head()"
      ],
      "execution_count": 86,
      "outputs": [
        {
          "output_type": "execute_result",
          "data": {
            "text/html": [
              "<div>\n",
              "<style scoped>\n",
              "    .dataframe tbody tr th:only-of-type {\n",
              "        vertical-align: middle;\n",
              "    }\n",
              "\n",
              "    .dataframe tbody tr th {\n",
              "        vertical-align: top;\n",
              "    }\n",
              "\n",
              "    .dataframe thead th {\n",
              "        text-align: right;\n",
              "    }\n",
              "</style>\n",
              "<table border=\"1\" class=\"dataframe\">\n",
              "  <thead>\n",
              "    <tr style=\"text-align: right;\">\n",
              "      <th></th>\n",
              "      <th>user_id</th>\n",
              "      <th>product_id</th>\n",
              "      <th>rating</th>\n",
              "      <th>label</th>\n",
              "      <th>date</th>\n",
              "      <th>review_text</th>\n",
              "      <th>day</th>\n",
              "      <th>year</th>\n",
              "      <th>word_count</th>\n",
              "      <th>punctuation_count</th>\n",
              "      <th>char_count</th>\n",
              "      <th>title_count</th>\n",
              "      <th>user_id_no_of_review</th>\n",
              "      <th>user_id_ave_rating</th>\n",
              "      <th>user_id_ave_no_words</th>\n",
              "      <th>user_id_max_review_a_day</th>\n",
              "      <th>product_id_no_of_review</th>\n",
              "      <th>product_id_ave_rating</th>\n",
              "      <th>product_id_ave_no_of_words</th>\n",
              "      <th>product_id_max_review_a_day</th>\n",
              "    </tr>\n",
              "  </thead>\n",
              "  <tbody>\n",
              "    <tr>\n",
              "      <th>0</th>\n",
              "      <td>61337</td>\n",
              "      <td>1006</td>\n",
              "      <td>5.0</td>\n",
              "      <td>1</td>\n",
              "      <td>2013-10-24</td>\n",
              "      <td>It's very rare for me to give a place 5 stars,...</td>\n",
              "      <td>Thursday</td>\n",
              "      <td>2013</td>\n",
              "      <td>244</td>\n",
              "      <td>35</td>\n",
              "      <td>1344</td>\n",
              "      <td>23</td>\n",
              "      <td>2</td>\n",
              "      <td>3.5</td>\n",
              "      <td>263.0</td>\n",
              "      <td>1</td>\n",
              "      <td>17</td>\n",
              "      <td>4.352941</td>\n",
              "      <td>161.176471</td>\n",
              "      <td>4</td>\n",
              "    </tr>\n",
              "    <tr>\n",
              "      <th>1</th>\n",
              "      <td>84141</td>\n",
              "      <td>1050</td>\n",
              "      <td>4.0</td>\n",
              "      <td>1</td>\n",
              "      <td>2014-08-17</td>\n",
              "      <td>Two words: Pork Belly!  I would come back just...</td>\n",
              "      <td>Sunday</td>\n",
              "      <td>2014</td>\n",
              "      <td>145</td>\n",
              "      <td>22</td>\n",
              "      <td>826</td>\n",
              "      <td>14</td>\n",
              "      <td>1</td>\n",
              "      <td>4.0</td>\n",
              "      <td>145.0</td>\n",
              "      <td>1</td>\n",
              "      <td>15</td>\n",
              "      <td>3.466667</td>\n",
              "      <td>150.200000</td>\n",
              "      <td>4</td>\n",
              "    </tr>\n",
              "    <tr>\n",
              "      <th>2</th>\n",
              "      <td>226573</td>\n",
              "      <td>3964</td>\n",
              "      <td>4.0</td>\n",
              "      <td>1</td>\n",
              "      <td>2012-12-03</td>\n",
              "      <td>Went for a holiday meal with the family. Good ...</td>\n",
              "      <td>Monday</td>\n",
              "      <td>2012</td>\n",
              "      <td>14</td>\n",
              "      <td>4</td>\n",
              "      <td>86</td>\n",
              "      <td>2</td>\n",
              "      <td>1</td>\n",
              "      <td>4.0</td>\n",
              "      <td>14.0</td>\n",
              "      <td>1</td>\n",
              "      <td>12</td>\n",
              "      <td>3.166667</td>\n",
              "      <td>130.500000</td>\n",
              "      <td>3</td>\n",
              "    </tr>\n",
              "    <tr>\n",
              "      <th>3</th>\n",
              "      <td>76102</td>\n",
              "      <td>2669</td>\n",
              "      <td>3.0</td>\n",
              "      <td>1</td>\n",
              "      <td>2014-09-10</td>\n",
              "      <td>Selection was mediocre.  My steak was cooked p...</td>\n",
              "      <td>Wednesday</td>\n",
              "      <td>2014</td>\n",
              "      <td>102</td>\n",
              "      <td>15</td>\n",
              "      <td>611</td>\n",
              "      <td>10</td>\n",
              "      <td>1</td>\n",
              "      <td>3.0</td>\n",
              "      <td>102.0</td>\n",
              "      <td>1</td>\n",
              "      <td>4</td>\n",
              "      <td>3.500000</td>\n",
              "      <td>237.000000</td>\n",
              "      <td>1</td>\n",
              "    </tr>\n",
              "    <tr>\n",
              "      <th>4</th>\n",
              "      <td>35307</td>\n",
              "      <td>914</td>\n",
              "      <td>4.0</td>\n",
              "      <td>1</td>\n",
              "      <td>2012-12-22</td>\n",
              "      <td>Had the lamb curry platter and my wife had the...</td>\n",
              "      <td>Saturday</td>\n",
              "      <td>2012</td>\n",
              "      <td>36</td>\n",
              "      <td>8</td>\n",
              "      <td>202</td>\n",
              "      <td>3</td>\n",
              "      <td>2</td>\n",
              "      <td>3.0</td>\n",
              "      <td>67.0</td>\n",
              "      <td>1</td>\n",
              "      <td>2</td>\n",
              "      <td>3.500000</td>\n",
              "      <td>44.000000</td>\n",
              "      <td>1</td>\n",
              "    </tr>\n",
              "  </tbody>\n",
              "</table>\n",
              "</div>"
            ],
            "text/plain": [
              "   user_id  product_id  ...  product_id_ave_no_of_words  product_id_max_review_a_day\n",
              "0    61337        1006  ...                  161.176471                            4\n",
              "1    84141        1050  ...                  150.200000                            4\n",
              "2   226573        3964  ...                  130.500000                            3\n",
              "3    76102        2669  ...                  237.000000                            1\n",
              "4    35307         914  ...                   44.000000                            1\n",
              "\n",
              "[5 rows x 20 columns]"
            ]
          },
          "metadata": {
            "tags": []
          },
          "execution_count": 86
        }
      ]
    },
    {
      "cell_type": "code",
      "metadata": {
        "id": "bTyV_eGcxKbm",
        "colab_type": "code",
        "colab": {}
      },
      "source": [
        "X_train=train_data.drop(['user_id','product_id','year','date','label','rating'],axis=1)\n",
        "y_train=train_data.label\n",
        "X_test=test_data.drop(['user_id','product_id','year','date','label'],axis=1)\n",
        "y_test=test_data.label"
      ],
      "execution_count": 0,
      "outputs": []
    },
    {
      "cell_type": "code",
      "metadata": {
        "id": "onPawQIMwA11",
        "colab_type": "code",
        "colab": {}
      },
      "source": [
        "pd.set_option('mode.chained_assignment', None)"
      ],
      "execution_count": 0,
      "outputs": []
    },
    {
      "cell_type": "markdown",
      "metadata": {
        "id": "1mQBT8IdwA1q",
        "colab_type": "text"
      },
      "source": [
        "### Text Preprocessing"
      ]
    },
    {
      "cell_type": "code",
      "metadata": {
        "id": "hiLREGzawA1q",
        "colab_type": "code",
        "colab": {}
      },
      "source": [
        "#Function for expanding all the contractions in the paragraph\n",
        "with open(\"/content/drive/My Drive/ML project'20/Contractions.json\",'r') as file:\n",
        "   Contractions=json.load(file)\n",
        "c_re = re.compile('(%s)' % '|'.join(Contractions.keys()))\n",
        "\n",
        "def expandContractions(text, c_re=c_re):\n",
        "    def replace(match):\n",
        "        return Contractions[match.group(0)]\n",
        "    return c_re.sub(replace, text)"
      ],
      "execution_count": 0,
      "outputs": []
    },
    {
      "cell_type": "code",
      "metadata": {
        "scrolled": true,
        "id": "5SES0elZwA1v",
        "colab_type": "code",
        "colab": {}
      },
      "source": [
        "# lowercase,remove digits,punctuations,expand contractions,stopwords and lemmatization\n",
        "stop_words = stopwords.words('english')\n",
        "lemmatizer = WordNetLemmatizer()\n",
        "X_train['review_text']=X_train['review_text'].apply(lambda x:unidecode.unidecode(x))  #Remove accented characters\n",
        "X_train['review_text']=X_train['review_text'].apply(lambda x: expandContractions(x))  # expand contractions(eg. I've to I have) \n",
        "X_train['review_text']=X_train['review_text'].apply(lambda x:x.lower())   #Convert into lowercase\n",
        "X_train['review_text']=X_train['review_text'].apply(lambda x : ''.join([c for c in x if not c.isdigit()])) #Remove numeric digits\n",
        "X_train['review_text']=X_train['review_text'].apply(lambda x:  ''.join([c for c in x if c not in string.punctuation]))  # Remove punctuations\n",
        "X_train['review_text']=X_train['review_text'].apply(lambda x: ' '.join([word for word in word_tokenize(x) if word not in stop_words]))\n",
        "X_train['review_text']=X_train['review_text'].apply(lambda x: ' '.join([lemmatizer.lemmatize(word) for word in word_tokenize(x)]))\n",
        "\n",
        "# Test Dataset\n",
        "X_test['review_text']=X_test['review_text'].apply(lambda x: unidecode.unidecode(x))\n",
        "X_test['review_text']=X_test['review_text'].apply(lambda x: expandContractions(x))\n",
        "X_test['review_text']=X_test['review_text'].apply(lambda x:x.lower())   #Convert into lowercase\n",
        "X_test['review_text']=X_test['review_text'].apply(lambda x : ''.join([c for c in x if not c.isdigit()])) #Remove numeric digits\n",
        "X_test['review_text']=X_test['review_text'].apply(lambda x:  ''.join([c for c in x if c not in string.punctuation]))  # Remove punctuations\n",
        "X_test['review_text']=X_test['review_text'].apply(lambda x: ' '.join([word for word in word_tokenize(x) if word not in stop_words]))\n",
        "X_test['review_text']=X_test['review_text'].apply(lambda x: ' '.join([lemmatizer.lemmatize(word) for word in word_tokenize(x)]))"
      ],
      "execution_count": 0,
      "outputs": []
    },
    {
      "cell_type": "code",
      "metadata": {
        "id": "gHtXwfTk3txT",
        "colab_type": "code",
        "colab": {}
      },
      "source": [
        "# # X_train.date=X_train.date.apply(lambda x: 10000*x.year + 100*x.month + x.day)\n",
        "# col=list(X_train.drop([\"review_text\",\"day\"],axis=1))\n",
        "# for i in col:\n",
        "#   X_train[i]=minmax_scale(X_train[i])\n",
        "# # X_train.loc[0].date.year\n",
        "# for i in col:\n",
        "#   X_test[i]=minmax_scale(X_test[i])\n"
      ],
      "execution_count": 0,
      "outputs": []
    },
    {
      "cell_type": "markdown",
      "metadata": {
        "id": "3zc0RkeewA15",
        "colab_type": "text"
      },
      "source": [
        "## Model"
      ]
    },
    {
      "cell_type": "markdown",
      "metadata": {
        "id": "D1Z3f1OzwA15",
        "colab_type": "text"
      },
      "source": [
        "### Classification on review text + features"
      ]
    },
    {
      "cell_type": "code",
      "metadata": {
        "id": "DyB95V77wA16",
        "colab_type": "code",
        "colab": {
          "base_uri": "https://localhost:8080/",
          "height": 119
        },
        "outputId": "7c83e531-ccf6-4c5d-d050-82768859afe3"
      },
      "source": [
        "# Count vectorizer for review_text\n",
        "count_vect=CountVectorizer(analyzer='word')\n",
        "count_vect.fit(X_train.review_text)\n",
        "feature_vector_train=count_vect.transform(X_train.review_text)\n",
        "feature_vector_test =count_vect.transform(X_test.review_text)\n",
        "#Count Vectorizer for day\n",
        "count_vect_=CountVectorizer(analyzer='word')\n",
        "count_vect_.fit(X_train.day)"
      ],
      "execution_count": 92,
      "outputs": [
        {
          "output_type": "execute_result",
          "data": {
            "text/plain": [
              "CountVectorizer(analyzer='word', binary=False, decode_error='strict',\n",
              "                dtype=<class 'numpy.int64'>, encoding='utf-8', input='content',\n",
              "                lowercase=True, max_df=1.0, max_features=None, min_df=1,\n",
              "                ngram_range=(1, 1), preprocessor=None, stop_words=None,\n",
              "                strip_accents=None, token_pattern='(?u)\\\\b\\\\w\\\\w+\\\\b',\n",
              "                tokenizer=None, vocabulary=None)"
            ]
          },
          "metadata": {
            "tags": []
          },
          "execution_count": 92
        }
      ]
    },
    {
      "cell_type": "code",
      "metadata": {
        "id": "M-tYi-jqwA1-",
        "colab_type": "code",
        "colab": {}
      },
      "source": [
        "# Count vectors + Features\n",
        "feature_vector_train=hstack((feature_vector_train,np.array(X_train[\"user_id_no_of_review\"])[:,None]))\n",
        "feature_vector_train=hstack((feature_vector_train,np.array(X_train[\"user_id_ave_rating\"])[:,None]))\n",
        "feature_vector_train=hstack((feature_vector_train,np.array(X_train[\"user_id_ave_no_words\"])[:,None]))\n",
        "feature_vector_train=hstack((feature_vector_train,np.array(X_train[\"user_id_max_review_a_day\"])[:,None]))\n",
        "feature_vector_train=hstack((feature_vector_train,np.array(X_train[\"product_id_no_of_review\"])[:,None]))\n",
        "feature_vector_train=hstack((feature_vector_train,np.array(X_train[\"product_id_ave_rating\"])[:,None]))\n",
        "feature_vector_train=hstack((feature_vector_train,np.array(X_train[\"product_id_ave_no_of_words\"])[:,None]))\n",
        "feature_vector_train=hstack((feature_vector_train,np.array(X_train[\"product_id_max_review_a_day\"])[:,None]))\n",
        "feature_vector_train=hstack((feature_vector_train,np.array(X_train[\"word_count\"])[:,None]))\n",
        "feature_vector_train=hstack((feature_vector_train,np.array(X_train[\"punctuation_count\"])[:,None]))\n",
        "feature_vector_train=hstack((feature_vector_train,np.array(X_train[\"char_count\"])[:,None]))\n",
        "feature_vector_train=hstack((feature_vector_train,np.array(X_train[\"title_count\"])[:,None]))\n",
        "feature_vector_train=hstack((feature_vector_train,count_vect_.transform(X_train[\"day\"])))\n",
        "\n",
        "feature_vector_test=hstack((feature_vector_test,np.array(X_test[\"user_id_no_of_review\"])[:,None]))\n",
        "feature_vector_test=hstack((feature_vector_test,np.array(X_test[\"user_id_ave_rating\"])[:,None]))\n",
        "feature_vector_test=hstack((feature_vector_test,np.array(X_test[\"user_id_ave_no_words\"])[:,None]))\n",
        "feature_vector_test=hstack((feature_vector_test,np.array(X_test[\"user_id_max_review_a_day\"])[:,None]))\n",
        "feature_vector_test=hstack((feature_vector_test,np.array(X_test[\"product_id_no_of_review\"])[:,None]))\n",
        "feature_vector_test=hstack((feature_vector_test,np.array(X_test[\"product_id_ave_rating\"])[:,None]))\n",
        "feature_vector_test=hstack((feature_vector_test,np.array(X_test[\"product_id_ave_no_of_words\"])[:,None]))\n",
        "feature_vector_test=hstack((feature_vector_test,np.array(X_test[\"product_id_max_review_a_day\"])[:,None]))\n",
        "feature_vector_test=hstack((feature_vector_test,np.array(X_test[\"word_count\"])[:,None]))\n",
        "feature_vector_test=hstack((feature_vector_test,np.array(X_test[\"punctuation_count\"])[:,None]))\n",
        "feature_vector_test=hstack((feature_vector_test,np.array(X_test[\"char_count\"])[:,None]))\n",
        "feature_vector_test=hstack((feature_vector_test,np.array(X_test[\"title_count\"])[:,None]))\n",
        "feature_vector_test=hstack((feature_vector_test,count_vect_.transform(X_test[\"day\"])))"
      ],
      "execution_count": 0,
      "outputs": []
    },
    {
      "cell_type": "code",
      "metadata": {
        "id": "k6fMpiOXwA2E",
        "colab_type": "code",
        "colab": {
          "base_uri": "https://localhost:8080/",
          "height": 173
        },
        "outputId": "5814fb7a-2139-48d3-ccb4-09a01043a27f"
      },
      "source": [
        "LR= LogisticRegression()\n",
        "LR.fit(feature_vector_train,y_train)\n",
        "predictions_train=LR.predict(feature_vector_train)\n",
        "y_pred=LR.predict(feature_vector_test)"
      ],
      "execution_count": 94,
      "outputs": [
        {
          "output_type": "stream",
          "text": [
            "/usr/local/lib/python3.6/dist-packages/sklearn/linear_model/_logistic.py:940: ConvergenceWarning: lbfgs failed to converge (status=1):\n",
            "STOP: TOTAL NO. of ITERATIONS REACHED LIMIT.\n",
            "\n",
            "Increase the number of iterations (max_iter) or scale the data as shown in:\n",
            "    https://scikit-learn.org/stable/modules/preprocessing.html\n",
            "Please also refer to the documentation for alternative solver options:\n",
            "    https://scikit-learn.org/stable/modules/linear_model.html#logistic-regression\n",
            "  extra_warning_msg=_LOGISTIC_SOLVER_CONVERGENCE_MSG)\n"
          ],
          "name": "stderr"
        }
      ]
    },
    {
      "cell_type": "code",
      "metadata": {
        "id": "_p9j_LyKwA2I",
        "colab_type": "code",
        "colab": {
          "base_uri": "https://localhost:8080/",
          "height": 51
        },
        "outputId": "983b2b8e-a308-418f-a123-db5263ab0ea0"
      },
      "source": [
        "feature_vector_test"
      ],
      "execution_count": 95,
      "outputs": [
        {
          "output_type": "execute_result",
          "data": {
            "text/plain": [
              "<5025x42777 sparse matrix of type '<class 'numpy.float64'>'\n",
              "\twith 281019 stored elements in COOrdinate format>"
            ]
          },
          "metadata": {
            "tags": []
          },
          "execution_count": 95
        }
      ]
    },
    {
      "cell_type": "code",
      "metadata": {
        "id": "yQh0On0rwA2O",
        "colab_type": "code",
        "colab": {
          "base_uri": "https://localhost:8080/",
          "height": 391
        },
        "outputId": "202581ae-4e88-4a23-d93d-f4251d9df7da"
      },
      "source": [
        "print(\"Train Dataset Report:\\n\")\n",
        "print(classification_report(y_train,predictions_train))\n",
        "print(\"Test Dataset Report:\\n\")\n",
        "print(classification_report(y_test,y_pred))"
      ],
      "execution_count": 96,
      "outputs": [
        {
          "output_type": "stream",
          "text": [
            "Train Dataset Report:\n",
            "\n",
            "              precision    recall  f1-score   support\n",
            "\n",
            "          -1       0.54      0.00      0.01      3353\n",
            "           1       0.87      1.00      0.93     21647\n",
            "\n",
            "    accuracy                           0.87     25000\n",
            "   macro avg       0.70      0.50      0.47     25000\n",
            "weighted avg       0.82      0.87      0.80     25000\n",
            "\n",
            "Test Dataset Report:\n",
            "\n",
            "              precision    recall  f1-score   support\n",
            "\n",
            "          -1       0.33      0.01      0.01       474\n",
            "           1       0.91      1.00      0.95      4551\n",
            "\n",
            "    accuracy                           0.91      5025\n",
            "   macro avg       0.62      0.50      0.48      5025\n",
            "weighted avg       0.85      0.91      0.86      5025\n",
            "\n"
          ],
          "name": "stdout"
        }
      ]
    },
    {
      "cell_type": "code",
      "metadata": {
        "id": "TgNa6om_wA2U",
        "colab_type": "code",
        "colab": {
          "base_uri": "https://localhost:8080/",
          "height": 51
        },
        "outputId": "4e1f2b5a-6757-4702-a74b-12f623711fda"
      },
      "source": [
        "print(\"Accuracy of LR on train dataset:\",accuracy_score(y_train,predictions_train))\n",
        "print(\"Accuracy of LR on test dataset :\",accuracy_score(y_test,y_pred))"
      ],
      "execution_count": 97,
      "outputs": [
        {
          "output_type": "stream",
          "text": [
            "Accuracy of LR on train dataset: 0.86596\n",
            "Accuracy of LR on test dataset : 0.9050746268656716\n"
          ],
          "name": "stdout"
        }
      ]
    },
    {
      "cell_type": "code",
      "metadata": {
        "id": "vDjG1jFa3OaY",
        "colab_type": "code",
        "colab": {
          "base_uri": "https://localhost:8080/",
          "height": 282
        },
        "outputId": "8b1a0f1e-8ff1-4620-d708-3ffa864ae055"
      },
      "source": [
        "cm=confusion_matrix(y_test,y_pred)\n",
        "sns.heatmap(cm,annot=True)"
      ],
      "execution_count": 98,
      "outputs": [
        {
          "output_type": "execute_result",
          "data": {
            "text/plain": [
              "<matplotlib.axes._subplots.AxesSubplot at 0x7effaf8d69e8>"
            ]
          },
          "metadata": {
            "tags": []
          },
          "execution_count": 98
        },
        {
          "output_type": "display_data",
          "data": {
            "image/png": "[encoded data removed]",
            "text/plain": [
              "<Figure size 432x288 with 2 Axes>"
            ]
          },
          "metadata": {
            "tags": [],
            "needs_background": "light"
          }
        }
      ]
    },
    {
      "cell_type": "markdown",
      "metadata": {
        "id": "cCiDoIaJwA2q",
        "colab_type": "text"
      },
      "source": [
        "### Classification on review text"
      ]
    },
    {
      "cell_type": "code",
      "metadata": {
        "id": "yHe1pxzpwA2d",
        "colab_type": "code",
        "colab": {
          "base_uri": "https://localhost:8080/",
          "height": 173
        },
        "outputId": "ea35bca1-99c3-4563-d57d-9da69c75bbd8"
      },
      "source": [
        "# count_vect=CountVectorizer(analyzer='word')\n",
        "# count_vect.fit(X_train.review_text)\n",
        "X_train_count=count_vect.transform(X_train.review_text)\n",
        "X_test_count =count_vect.transform(X_test.review_text)\n",
        "\n",
        "LR= LogisticRegression()\n",
        "LR.fit(X_train_count,y_train)\n",
        "predictions_train=LR.predict(X_train_count)\n",
        "predictions_test=LR.predict(X_test_count)"
      ],
      "execution_count": 99,
      "outputs": [
        {
          "output_type": "stream",
          "text": [
            "/usr/local/lib/python3.6/dist-packages/sklearn/linear_model/_logistic.py:940: ConvergenceWarning: lbfgs failed to converge (status=1):\n",
            "STOP: TOTAL NO. of ITERATIONS REACHED LIMIT.\n",
            "\n",
            "Increase the number of iterations (max_iter) or scale the data as shown in:\n",
            "    https://scikit-learn.org/stable/modules/preprocessing.html\n",
            "Please also refer to the documentation for alternative solver options:\n",
            "    https://scikit-learn.org/stable/modules/linear_model.html#logistic-regression\n",
            "  extra_warning_msg=_LOGISTIC_SOLVER_CONVERGENCE_MSG)\n"
          ],
          "name": "stderr"
        }
      ]
    },
    {
      "cell_type": "code",
      "metadata": {
        "scrolled": true,
        "id": "Nh566QhwwA2g",
        "colab_type": "code",
        "colab": {
          "base_uri": "https://localhost:8080/",
          "height": 391
        },
        "outputId": "edacc96f-7fdb-46b4-a1f9-79c4ac94f8f7"
      },
      "source": [
        "print(\"Train Dataset Report:\\n\")\n",
        "print(classification_report(y_train,predictions_train))\n",
        "print(\"Test Dataset Report:\\n\")\n",
        "print(classification_report(y_test,predictions_test))"
      ],
      "execution_count": 100,
      "outputs": [
        {
          "output_type": "stream",
          "text": [
            "Train Dataset Report:\n",
            "\n",
            "              precision    recall  f1-score   support\n",
            "\n",
            "          -1       0.98      0.50      0.66      3353\n",
            "           1       0.93      1.00      0.96     21647\n",
            "\n",
            "    accuracy                           0.93     25000\n",
            "   macro avg       0.95      0.75      0.81     25000\n",
            "weighted avg       0.94      0.93      0.92     25000\n",
            "\n",
            "Test Dataset Report:\n",
            "\n",
            "              precision    recall  f1-score   support\n",
            "\n",
            "          -1       0.19      0.10      0.13       474\n",
            "           1       0.91      0.95      0.93      4551\n",
            "\n",
            "    accuracy                           0.87      5025\n",
            "   macro avg       0.55      0.53      0.53      5025\n",
            "weighted avg       0.84      0.87      0.86      5025\n",
            "\n"
          ],
          "name": "stdout"
        }
      ]
    },
    {
      "cell_type": "code",
      "metadata": {
        "id": "ADsgG_6dwA2k",
        "colab_type": "code",
        "colab": {
          "base_uri": "https://localhost:8080/",
          "height": 51
        },
        "outputId": "59b486cf-c186-4119-f20e-bcd234043114"
      },
      "source": [
        "print(\"Accuracy of LR on train dataset:\",accuracy_score(y_train,predictions_train))\n",
        "print(\"Accuracy of LR on test dataset :\",accuracy_score(y_test,predictions_test))"
      ],
      "execution_count": 101,
      "outputs": [
        {
          "output_type": "stream",
          "text": [
            "Accuracy of LR on train dataset: 0.93176\n",
            "Accuracy of LR on test dataset : 0.8734328358208955\n"
          ],
          "name": "stdout"
        }
      ]
    },
    {
      "cell_type": "code",
      "metadata": {
        "id": "eUNeOUpn4YBO",
        "colab_type": "code",
        "colab": {
          "base_uri": "https://localhost:8080/",
          "height": 282
        },
        "outputId": "8eaadb9e-2bc6-4286-95f4-ef5ff1afa602"
      },
      "source": [
        "cm=confusion_matrix(y_test,y_pred)\n",
        "sns.heatmap(cm,annot=True)"
      ],
      "execution_count": 102,
      "outputs": [
        {
          "output_type": "execute_result",
          "data": {
            "text/plain": [
              "<matplotlib.axes._subplots.AxesSubplot at 0x7effb5a62630>"
            ]
          },
          "metadata": {
            "tags": []
          },
          "execution_count": 102
        },
        {
          "output_type": "display_data",
          "data": {
            "image/png": "[encoded data removed]",
            "text/plain": [
              "<Figure size 432x288 with 2 Axes>"
            ]
          },
          "metadata": {
            "tags": [],
            "needs_background": "light"
          }
        }
      ]
    }
  ]
}