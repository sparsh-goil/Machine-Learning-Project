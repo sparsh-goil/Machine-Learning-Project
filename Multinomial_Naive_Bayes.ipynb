{
  "nbformat": 4,
  "nbformat_minor": 0,
  "metadata": {
    "kernelspec": {
      "display_name": "Python 3",
      "language": "python",
      "name": "python3"
    },
    "language_info": {
      "codemirror_mode": {
        "name": "ipython",
        "version": 2
      },
      "file_extension": ".py",
      "mimetype": "text/x-python",
      "name": "python",
      "nbconvert_exporter": "python",
      "pygments_lexer": "ipython2",
      "version": "2.7.15+"
    },
    "colab": {
      "name": "NB_ML_Project.ipynb",
      "provenance": [],
      "collapsed_sections": [],
      "toc_visible": true
    }
  },
  "cells": [
    {
      "cell_type": "code",
      "metadata": {
        "id": "u6M7Hj7jwA0z",
        "colab_type": "code",
        "colab": {}
      },
      "source": [
        "import pandas as pd\n",
        "import string\n",
        "import nltk\n",
        "import numpy as np\n",
        "import sklearn\n",
        "import seaborn as sns\n",
        "import re\n",
        "import json\n",
        "from nltk.corpus import stopwords\n",
        "from nltk.stem import WordNetLemmatizer\n",
        "from nltk.tokenize import word_tokenize\n",
        "from sklearn.feature_extraction.text import CountVectorizer\n",
        "from sklearn.feature_extraction.text import TfidfVectorizer\n",
        "from sklearn.linear_model import LogisticRegression\n",
        "from sklearn import model_selection,preprocessing,naive_bayes\n",
        "from sklearn.model_selection import train_test_split\n",
        "from sklearn.preprocessing import minmax_scale\n",
        "from scipy.sparse import hstack\n",
        "from sklearn.metrics import classification_report,accuracy_score,confusion_matrix"
      ],
      "execution_count": 0,
      "outputs": []
    },
    {
      "cell_type": "code",
      "metadata": {
        "id": "edD1NC60zi7H",
        "colab_type": "code",
        "outputId": "7175d7c4-0a89-42fb-e53f-8167d4dc787a",
        "colab": {
          "base_uri": "https://localhost:8080/",
          "height": 136
        }
      },
      "source": [
        "nltk.download('stopwords')\n",
        "nltk.download('punkt')\n",
        "nltk.download('wordnet')"
      ],
      "execution_count": 112,
      "outputs": [
        {
          "output_type": "stream",
          "text": [
            "[nltk_data] Downloading package stopwords to /root/nltk_data...\n",
            "[nltk_data]   Package stopwords is already up-to-date!\n",
            "[nltk_data] Downloading package punkt to /root/nltk_data...\n",
            "[nltk_data]   Package punkt is already up-to-date!\n",
            "[nltk_data] Downloading package wordnet to /root/nltk_data...\n",
            "[nltk_data]   Package wordnet is already up-to-date!\n"
          ],
          "name": "stdout"
        },
        {
          "output_type": "execute_result",
          "data": {
            "text/plain": [
              "True"
            ]
          },
          "metadata": {
            "tags": []
          },
          "execution_count": 112
        }
      ]
    },
    {
      "cell_type": "code",
      "metadata": {
        "id": "dxj3pWlbyFDX",
        "colab_type": "code",
        "outputId": "ad62783b-9d86-4667-b741-7805ecb4d65b",
        "colab": {
          "base_uri": "https://localhost:8080/",
          "height": 54
        }
      },
      "source": [
        "from google.colab import drive\n",
        "drive.mount('/content/drive')"
      ],
      "execution_count": 113,
      "outputs": [
        {
          "output_type": "stream",
          "text": [
            "Drive already mounted at /content/drive; to attempt to forcibly remount, call drive.mount(\"/content/drive\", force_remount=True).\n"
          ],
          "name": "stdout"
        }
      ]
    },
    {
      "cell_type": "markdown",
      "metadata": {
        "id": "f4-5Mo7Wgj6M",
        "colab_type": "text"
      },
      "source": [
        "**Load Dataset**"
      ]
    },
    {
      "cell_type": "code",
      "metadata": {
        "id": "CXzCE8OsxKe2",
        "colab_type": "code",
        "colab": {}
      },
      "source": [
        "train_data=pd.read_csv(\"/content/drive/My Drive/ML project'20/YelpZip/train_newb.csv\")\n",
        "valid_data=pd.read_csv(\"/content/drive/My Drive/ML project'20/YelpZip/val_newb.csv\")\n",
        "test_data=pd.read_csv(\"/content/drive/My Drive/ML project'20/YelpZip/test_newb.csv\")"
      ],
      "execution_count": 0,
      "outputs": []
    },
    {
      "cell_type": "code",
      "metadata": {
        "id": "zSGIgZsxxKdO",
        "colab_type": "code",
        "outputId": "10093368-03d9-4549-e919-cdb91bae9a3a",
        "colab": {
          "base_uri": "https://localhost:8080/",
          "height": 479
        }
      },
      "source": [
        "train_data.head()"
      ],
      "execution_count": 115,
      "outputs": [
        {
          "output_type": "execute_result",
          "data": {
            "text/html": [
              "<div>\n",
              "<style scoped>\n",
              "    .dataframe tbody tr th:only-of-type {\n",
              "        vertical-align: middle;\n",
              "    }\n",
              "\n",
              "    .dataframe tbody tr th {\n",
              "        vertical-align: top;\n",
              "    }\n",
              "\n",
              "    .dataframe thead th {\n",
              "        text-align: right;\n",
              "    }\n",
              "</style>\n",
              "<table border=\"1\" class=\"dataframe\">\n",
              "  <thead>\n",
              "    <tr style=\"text-align: right;\">\n",
              "      <th></th>\n",
              "      <th>user_id</th>\n",
              "      <th>product_id</th>\n",
              "      <th>rating</th>\n",
              "      <th>label</th>\n",
              "      <th>date</th>\n",
              "      <th>review_text</th>\n",
              "      <th>day</th>\n",
              "      <th>year</th>\n",
              "      <th>word_count</th>\n",
              "      <th>punctuation_count</th>\n",
              "      <th>char_count</th>\n",
              "      <th>title_count</th>\n",
              "      <th>user_id_no_of_review</th>\n",
              "      <th>user_id_ave_rating</th>\n",
              "      <th>user_id_ave_no_words</th>\n",
              "      <th>user_id_max_review_a_day</th>\n",
              "      <th>product_id_no_of_review</th>\n",
              "      <th>product_id_ave_rating</th>\n",
              "      <th>product_id_ave_no_of_words</th>\n",
              "      <th>product_id_max_review_a_day</th>\n",
              "    </tr>\n",
              "  </thead>\n",
              "  <tbody>\n",
              "    <tr>\n",
              "      <th>0</th>\n",
              "      <td>192117</td>\n",
              "      <td>3237</td>\n",
              "      <td>4.0</td>\n",
              "      <td>-1</td>\n",
              "      <td>2012-12-30</td>\n",
              "      <td>delish! pizza was huge, flavorful and filling!...</td>\n",
              "      <td>Sunday</td>\n",
              "      <td>2012</td>\n",
              "      <td>52</td>\n",
              "      <td>8</td>\n",
              "      <td>296</td>\n",
              "      <td>7</td>\n",
              "      <td>1</td>\n",
              "      <td>4.0</td>\n",
              "      <td>52.0</td>\n",
              "      <td>1</td>\n",
              "      <td>114</td>\n",
              "      <td>4.017544</td>\n",
              "      <td>74.684211</td>\n",
              "      <td>14</td>\n",
              "    </tr>\n",
              "    <tr>\n",
              "      <th>1</th>\n",
              "      <td>83124</td>\n",
              "      <td>2122</td>\n",
              "      <td>4.0</td>\n",
              "      <td>1</td>\n",
              "      <td>2012-01-21</td>\n",
              "      <td>lava's hummus is better than zahav's. there. i...</td>\n",
              "      <td>Saturday</td>\n",
              "      <td>2012</td>\n",
              "      <td>225</td>\n",
              "      <td>34</td>\n",
              "      <td>1233</td>\n",
              "      <td>21</td>\n",
              "      <td>1</td>\n",
              "      <td>4.0</td>\n",
              "      <td>225.0</td>\n",
              "      <td>1</td>\n",
              "      <td>15</td>\n",
              "      <td>3.666667</td>\n",
              "      <td>140.266667</td>\n",
              "      <td>3</td>\n",
              "    </tr>\n",
              "    <tr>\n",
              "      <th>2</th>\n",
              "      <td>137167</td>\n",
              "      <td>3222</td>\n",
              "      <td>2.0</td>\n",
              "      <td>1</td>\n",
              "      <td>2012-08-10</td>\n",
              "      <td>my friend and i decided to come check this pla...</td>\n",
              "      <td>Friday</td>\n",
              "      <td>2012</td>\n",
              "      <td>247</td>\n",
              "      <td>21</td>\n",
              "      <td>1315</td>\n",
              "      <td>11</td>\n",
              "      <td>1</td>\n",
              "      <td>2.0</td>\n",
              "      <td>247.0</td>\n",
              "      <td>1</td>\n",
              "      <td>32</td>\n",
              "      <td>3.500000</td>\n",
              "      <td>82.656250</td>\n",
              "      <td>4</td>\n",
              "    </tr>\n",
              "    <tr>\n",
              "      <th>3</th>\n",
              "      <td>51095</td>\n",
              "      <td>523</td>\n",
              "      <td>3.0</td>\n",
              "      <td>1</td>\n",
              "      <td>2012-04-23</td>\n",
              "      <td>oy vey. i really really wanted to write a good...</td>\n",
              "      <td>Monday</td>\n",
              "      <td>2012</td>\n",
              "      <td>210</td>\n",
              "      <td>52</td>\n",
              "      <td>1184</td>\n",
              "      <td>22</td>\n",
              "      <td>1</td>\n",
              "      <td>3.0</td>\n",
              "      <td>210.0</td>\n",
              "      <td>1</td>\n",
              "      <td>18</td>\n",
              "      <td>3.111111</td>\n",
              "      <td>107.611111</td>\n",
              "      <td>6</td>\n",
              "    </tr>\n",
              "    <tr>\n",
              "      <th>4</th>\n",
              "      <td>194284</td>\n",
              "      <td>2605</td>\n",
              "      <td>4.0</td>\n",
              "      <td>-1</td>\n",
              "      <td>2012-03-22</td>\n",
              "      <td>i heard about the wait and it was worth it. th...</td>\n",
              "      <td>Thursday</td>\n",
              "      <td>2012</td>\n",
              "      <td>21</td>\n",
              "      <td>4</td>\n",
              "      <td>95</td>\n",
              "      <td>2</td>\n",
              "      <td>2</td>\n",
              "      <td>3.5</td>\n",
              "      <td>25.5</td>\n",
              "      <td>2</td>\n",
              "      <td>117</td>\n",
              "      <td>3.837607</td>\n",
              "      <td>124.427350</td>\n",
              "      <td>15</td>\n",
              "    </tr>\n",
              "  </tbody>\n",
              "</table>\n",
              "</div>"
            ],
            "text/plain": [
              "   user_id  product_id  ...  product_id_ave_no_of_words  product_id_max_review_a_day\n",
              "0   192117        3237  ...                   74.684211                           14\n",
              "1    83124        2122  ...                  140.266667                            3\n",
              "2   137167        3222  ...                   82.656250                            4\n",
              "3    51095         523  ...                  107.611111                            6\n",
              "4   194284        2605  ...                  124.427350                           15\n",
              "\n",
              "[5 rows x 20 columns]"
            ]
          },
          "metadata": {
            "tags": []
          },
          "execution_count": 115
        }
      ]
    },
    {
      "cell_type": "code",
      "metadata": {
        "id": "ib-6mTq1eoLw",
        "colab_type": "code",
        "colab": {}
      },
      "source": [
        "Days={}\n",
        "i=1\n",
        "for val in train_data['day']:\n",
        "  if val not in Days:\n",
        "    Days[val]= i\n",
        "    i+=1\n",
        "train_data['day']=train_data['day'].apply(lambda x: Days[x])\n",
        "test_data['day']=test_data['day'].apply(lambda x: Days[x])\n",
        "valid_data['day']=valid_data['day'].apply(lambda x: Days[x])"
      ],
      "execution_count": 0,
      "outputs": []
    },
    {
      "cell_type": "code",
      "metadata": {
        "id": "bTyV_eGcxKbm",
        "colab_type": "code",
        "colab": {}
      },
      "source": [
        "X_train=train_data.drop(['user_id','product_id','year','date','label','rating'],axis=1)\n",
        "y_train=train_data.label\n",
        "X_test=test_data.drop(['user_id','product_id','year','date','label'],axis=1)\n",
        "y_test=test_data.label\n",
        "X_valid=valid_data.drop(['user_id','product_id','year','date','label'],axis=1)\n",
        "y_valid=valid_data.label"
      ],
      "execution_count": 0,
      "outputs": []
    },
    {
      "cell_type": "code",
      "metadata": {
        "id": "79TAehERlWgF",
        "colab_type": "code",
        "colab": {}
      },
      "source": [
        "# Normalization\n",
        "columns=list(X_train.drop(['review_text'],axis=1).columns)\n",
        "for col in columns:\n",
        "  X_train[col]=minmax_scale(X_train[col])\n",
        "for col in columns:\n",
        "  X_valid[col]=minmax_scale(X_valid[col])\n",
        "for col in columns:\n",
        "  X_test[col]=minmax_scale(X_test[col])"
      ],
      "execution_count": 0,
      "outputs": []
    },
    {
      "cell_type": "code",
      "metadata": {
        "id": "onPawQIMwA11",
        "colab_type": "code",
        "colab": {}
      },
      "source": [
        "pd.set_option('mode.chained_assignment', None)"
      ],
      "execution_count": 0,
      "outputs": []
    },
    {
      "cell_type": "markdown",
      "metadata": {
        "id": "1mQBT8IdwA1q",
        "colab_type": "text"
      },
      "source": [
        "### **Text Preprocessing**"
      ]
    },
    {
      "cell_type": "code",
      "metadata": {
        "id": "hiLREGzawA1q",
        "colab_type": "code",
        "colab": {}
      },
      "source": [
        "#Function for expanding all the contractions in the paragraph\n",
        "with open(\"/content/drive/My Drive/ML project'20/Contractions.json\",'r') as file:\n",
        "   Contractions=json.load(file)\n",
        "c_re = re.compile('(%s)' % '|'.join(Contractions.keys()))\n",
        "\n",
        "def expandContractions(text, c_re=c_re):\n",
        "    def replace(match):\n",
        "        return Contractions[match.group(0)]\n",
        "    return c_re.sub(replace, text)"
      ],
      "execution_count": 0,
      "outputs": []
    },
    {
      "cell_type": "code",
      "metadata": {
        "scrolled": true,
        "id": "5SES0elZwA1v",
        "colab_type": "code",
        "colab": {}
      },
      "source": [
        "# lowercase,remove digits,punctuations,expand contractions,stopwords and lemmatization\n",
        "stop_words = stopwords.words('english')\n",
        "lemmatizer = WordNetLemmatizer()\n",
        "X_train['review_text']=X_train['review_text'].apply(lambda x : ''.join([c for c in x if not c.isdigit()])) #Remove numeric digits\n",
        "X_train['review_text']=X_train['review_text'].apply(lambda x:  ''.join([c for c in x if c not in string.punctuation]))  # Remove punctuations\n",
        "X_train['review_text']=X_train['review_text'].apply(lambda x: ' '.join([word for word in word_tokenize(x) if word not in stop_words]))\n",
        "\n",
        "#Val Dataset\n",
        "X_valid['review_text']=X_valid['review_text'].apply(lambda x : ''.join([c for c in x if not c.isdigit()])) #Remove numeric digits\n",
        "X_valid['review_text']=X_valid['review_text'].apply(lambda x:  ''.join([c for c in x if c not in string.punctuation]))  # Remove punctuations\n",
        "X_valid['review_text']=X_valid['review_text'].apply(lambda x: ' '.join([word for word in word_tokenize(x) if word not in stop_words]))\n",
        "\n",
        "# Test Dataset\n",
        "X_test['review_text']=X_test['review_text'].apply(lambda x : ''.join([c for c in x if not c.isdigit()])) #Remove numeric digits\n",
        "X_test['review_text']=X_test['review_text'].apply(lambda x:  ''.join([c for c in x if c not in string.punctuation]))  # Remove punctuations\n",
        "X_test['review_text']=X_test['review_text'].apply(lambda x: ' '.join([word for word in word_tokenize(x) if word not in stop_words]))"
      ],
      "execution_count": 0,
      "outputs": []
    },
    {
      "cell_type": "markdown",
      "metadata": {
        "id": "BMWAK3fJvhxa",
        "colab_type": "text"
      },
      "source": [
        "### **Models**"
      ]
    },
    {
      "cell_type": "markdown",
      "metadata": {
        "colab_type": "text",
        "id": "s9mqVWtLvgWm"
      },
      "source": [
        "### Classification on review text + features"
      ]
    },
    {
      "cell_type": "code",
      "metadata": {
        "colab_type": "code",
        "id": "MnOI4PJsvgWu",
        "colab": {}
      },
      "source": [
        "count_vect_1 = TfidfVectorizer(analyzer='word', token_pattern=r'\\w{1,}', ngram_range=(1,1),max_features=5000)\n",
        "count_vect_1.fit(X_train.review_text)\n",
        "# vocab=dict(np.ndenumerate(voc[ind]))\n",
        "feature_vector_train=count_vect_1.transform(X_train.review_text)\n",
        "feature_vector_test=count_vect_1.transform(X_test.review_text)\n",
        "feature_vector_valid=count_vect_1.transform(X_valid.review_text)"
      ],
      "execution_count": 0,
      "outputs": []
    },
    {
      "cell_type": "code",
      "metadata": {
        "colab_type": "code",
        "id": "L4dj3GegvgW9",
        "colab": {}
      },
      "source": [
        "# Count vectors + Features\n",
        "feature_vector_train=hstack((feature_vector_train,np.array(X_train[\"user_id_no_of_review\"])[:,None]))\n",
        "feature_vector_train=hstack((feature_vector_train,np.array(X_train[\"user_id_ave_rating\"])[:,None]))\n",
        "feature_vector_train=hstack((feature_vector_train,np.array(X_train[\"user_id_ave_no_words\"])[:,None]))\n",
        "feature_vector_train=hstack((feature_vector_train,np.array(X_train[\"user_id_max_review_a_day\"])[:,None]))\n",
        "feature_vector_train=hstack((feature_vector_train,np.array(X_train[\"product_id_no_of_review\"])[:,None]))\n",
        "feature_vector_train=hstack((feature_vector_train,np.array(X_train[\"product_id_ave_rating\"])[:,None]))\n",
        "feature_vector_train=hstack((feature_vector_train,np.array(X_train[\"product_id_ave_no_of_words\"])[:,None]))\n",
        "feature_vector_train=hstack((feature_vector_train,np.array(X_train[\"product_id_max_review_a_day\"])[:,None]))\n",
        "feature_vector_train=hstack((feature_vector_train,np.array(X_train[\"word_count\"])[:,None]))\n",
        "feature_vector_train=hstack((feature_vector_train,np.array(X_train[\"punctuation_count\"])[:,None]))\n",
        "feature_vector_train=hstack((feature_vector_train,np.array(X_train[\"char_count\"])[:,None]))\n",
        "feature_vector_train=hstack((feature_vector_train,np.array(X_train[\"title_count\"])[:,None]))\n",
        "feature_vector_train=hstack((feature_vector_train,np.array(X_train[\"day\"])[:,None]))\n",
        "\n",
        "feature_vector_valid=hstack((feature_vector_valid,np.array(X_valid[\"user_id_no_of_review\"])[:,None]))\n",
        "feature_vector_valid=hstack((feature_vector_valid,np.array(X_valid[\"user_id_ave_rating\"])[:,None]))\n",
        "feature_vector_valid=hstack((feature_vector_valid,np.array(X_valid[\"user_id_ave_no_words\"])[:,None]))\n",
        "feature_vector_valid=hstack((feature_vector_valid,np.array(X_valid[\"user_id_max_review_a_day\"])[:,None]))\n",
        "feature_vector_valid=hstack((feature_vector_valid,np.array(X_valid[\"product_id_no_of_review\"])[:,None]))\n",
        "feature_vector_valid=hstack((feature_vector_valid,np.array(X_valid[\"product_id_ave_rating\"])[:,None]))\n",
        "feature_vector_valid=hstack((feature_vector_valid,np.array(X_valid[\"product_id_ave_no_of_words\"])[:,None]))\n",
        "feature_vector_valid=hstack((feature_vector_valid,np.array(X_valid[\"product_id_max_review_a_day\"])[:,None]))\n",
        "feature_vector_valid=hstack((feature_vector_valid,np.array(X_valid[\"word_count\"])[:,None]))\n",
        "feature_vector_valid=hstack((feature_vector_valid,np.array(X_valid[\"punctuation_count\"])[:,None]))\n",
        "feature_vector_valid=hstack((feature_vector_valid,np.array(X_valid[\"char_count\"])[:,None]))\n",
        "feature_vector_valid=hstack((feature_vector_valid,np.array(X_valid[\"title_count\"])[:,None]))\n",
        "feature_vector_valid=hstack((feature_vector_valid,np.array(X_valid[\"day\"])[:,None]))\n",
        "\n",
        "\n",
        "feature_vector_test=hstack((feature_vector_test,np.array(X_test[\"user_id_no_of_review\"])[:,None]))\n",
        "feature_vector_test=hstack((feature_vector_test,np.array(X_test[\"user_id_ave_rating\"])[:,None]))\n",
        "feature_vector_test=hstack((feature_vector_test,np.array(X_test[\"user_id_ave_no_words\"])[:,None]))\n",
        "feature_vector_test=hstack((feature_vector_test,np.array(X_test[\"user_id_max_review_a_day\"])[:,None]))\n",
        "feature_vector_test=hstack((feature_vector_test,np.array(X_test[\"product_id_no_of_review\"])[:,None]))\n",
        "feature_vector_test=hstack((feature_vector_test,np.array(X_test[\"product_id_ave_rating\"])[:,None]))\n",
        "feature_vector_test=hstack((feature_vector_test,np.array(X_test[\"product_id_ave_no_of_words\"])[:,None]))\n",
        "feature_vector_test=hstack((feature_vector_test,np.array(X_test[\"product_id_max_review_a_day\"])[:,None]))\n",
        "feature_vector_test=hstack((feature_vector_test,np.array(X_test[\"word_count\"])[:,None]))\n",
        "feature_vector_test=hstack((feature_vector_test,np.array(X_test[\"punctuation_count\"])[:,None]))\n",
        "feature_vector_test=hstack((feature_vector_test,np.array(X_test[\"char_count\"])[:,None]))\n",
        "feature_vector_test=hstack((feature_vector_test,np.array(X_test[\"title_count\"])[:,None]))\n",
        "feature_vector_test=hstack((feature_vector_test,np.array(X_test[\"day\"])[:,None]))"
      ],
      "execution_count": 0,
      "outputs": []
    },
    {
      "cell_type": "code",
      "metadata": {
        "colab_type": "code",
        "id": "Wqpa5vWnvgXI",
        "colab": {}
      },
      "source": [
        "NB= naive_bayes.MultinomialNB()\n",
        "NB.fit(feature_vector_train,y_train.values)\n",
        "predictions_train=NB.predict(feature_vector_train)\n",
        "y_test_pred=NB.predict(feature_vector_test)\n",
        "y_val_pred=NB.predict(feature_vector_valid)"
      ],
      "execution_count": 0,
      "outputs": []
    },
    {
      "cell_type": "code",
      "metadata": {
        "colab_type": "code",
        "outputId": "91981f12-1dce-4d18-a9c7-d192e47df7e5",
        "id": "4TRgVyKFvgXN",
        "colab": {
          "base_uri": "https://localhost:8080/",
          "height": 51
        }
      },
      "source": [
        "feature_vector_test"
      ],
      "execution_count": 147,
      "outputs": [
        {
          "output_type": "execute_result",
          "data": {
            "text/plain": [
              "<10000x5013 sparse matrix of type '<class 'numpy.float64'>'\n",
              "\twith 492285 stored elements in COOrdinate format>"
            ]
          },
          "metadata": {
            "tags": []
          },
          "execution_count": 147
        }
      ]
    },
    {
      "cell_type": "code",
      "metadata": {
        "colab_type": "code",
        "outputId": "b9f3047e-1d2e-4921-9c6a-171271a5f9e6",
        "id": "PaT0mXBPvgXR",
        "colab": {
          "base_uri": "https://localhost:8080/",
          "height": 578
        }
      },
      "source": [
        "print('\\033[1m'+\"Train Dataset Report:\\n\"+'\\033[0m')\n",
        "print(classification_report(y_train,predictions_train))\n",
        "print('\\033[1m'+\"Validation Dataset Report:\\n\"+'\\033[0m')\n",
        "print(classification_report(y_valid,y_val_pred))\n",
        "print('\\033[1m'+\"Test Dataset Report:\\n\"+'\\033[0m')\n",
        "print(classification_report(y_test,y_test_pred))"
      ],
      "execution_count": 148,
      "outputs": [
        {
          "output_type": "stream",
          "text": [
            "\u001b[1mTrain Dataset Report:\n",
            "\u001b[0m\n",
            "              precision    recall  f1-score   support\n",
            "\n",
            "          -1       0.69      0.75      0.72     12500\n",
            "           1       0.73      0.67      0.70     12500\n",
            "\n",
            "    accuracy                           0.71     25000\n",
            "   macro avg       0.71      0.71      0.71     25000\n",
            "weighted avg       0.71      0.71      0.71     25000\n",
            "\n",
            "\u001b[1mValidation Dataset Report:\n",
            "\u001b[0m\n",
            "              precision    recall  f1-score   support\n",
            "\n",
            "          -1       0.63      0.70      0.66      2500\n",
            "           1       0.66      0.60      0.63      2500\n",
            "\n",
            "    accuracy                           0.65      5000\n",
            "   macro avg       0.65      0.65      0.65      5000\n",
            "weighted avg       0.65      0.65      0.65      5000\n",
            "\n",
            "\u001b[1mTest Dataset Report:\n",
            "\u001b[0m\n",
            "              precision    recall  f1-score   support\n",
            "\n",
            "          -1       0.65      0.71      0.68      5000\n",
            "           1       0.68      0.61      0.64      5000\n",
            "\n",
            "    accuracy                           0.66     10000\n",
            "   macro avg       0.66      0.66      0.66     10000\n",
            "weighted avg       0.66      0.66      0.66     10000\n",
            "\n"
          ],
          "name": "stdout"
        }
      ]
    },
    {
      "cell_type": "code",
      "metadata": {
        "colab_type": "code",
        "outputId": "f881d7b7-2cc9-4bfd-cf09-c1819365d9b6",
        "id": "MdOsw8_KvgXV",
        "colab": {
          "base_uri": "https://localhost:8080/",
          "height": 68
        }
      },
      "source": [
        "print(\"Accuracy of NB on train dataset : {}%\".format(accuracy_score(y_train,predictions_train)*100))\n",
        "print(\"Accuracy of NB on validn dataset: {}%\".format(accuracy_score(y_valid,y_val_pred)*100))\n",
        "print(\"Accuracy of NB on test dataset  : {}%\".format(accuracy_score(y_test,y_test_pred)*100))"
      ],
      "execution_count": 150,
      "outputs": [
        {
          "output_type": "stream",
          "text": [
            "Accuracy of NB on train dataset : 70.824%\n",
            "Accuracy of NB on validn dataset: 64.64%\n",
            "Accuracy of NB on test dataset  : 66.03%\n"
          ],
          "name": "stdout"
        }
      ]
    },
    {
      "cell_type": "code",
      "metadata": {
        "colab_type": "code",
        "outputId": "e3316e8b-db33-40a5-8688-af7bab7bfc70",
        "id": "1Fp2b_AGvgXa",
        "colab": {
          "base_uri": "https://localhost:8080/",
          "height": 282
        }
      },
      "source": [
        "cm=confusion_matrix(y_test,y_test_pred)\n",
        "sns.heatmap(cm,annot=True)"
      ],
      "execution_count": 151,
      "outputs": [
        {
          "output_type": "execute_result",
          "data": {
            "text/plain": [
              "<matplotlib.axes._subplots.AxesSubplot at 0x7fe2fd81cb70>"
            ]
          },
          "metadata": {
            "tags": []
          },
          "execution_count": 151
        },
        {
          "output_type": "display_data",
          "data": {
            "image/png": "[encoded data removed]",
            "text/plain": [
              "<Figure size 432x288 with 2 Axes>"
            ]
          },
          "metadata": {
            "tags": [],
            "needs_background": "light"
          }
        }
      ]
    },
    {
      "cell_type": "markdown",
      "metadata": {
        "colab_type": "text",
        "id": "MxX8EseOvgXd"
      },
      "source": [
        "### Classification on review text"
      ]
    },
    {
      "cell_type": "code",
      "metadata": {
        "colab_type": "code",
        "id": "madgQBOHvgXd",
        "colab": {}
      },
      "source": [
        "#Count Vectorizer for day\n",
        "# count_vect_=CountVectorizer(analyzer='word')\n",
        "# count_vect_.fit(X_train.day)\n",
        "# feat=1000\n",
        "count_vect_1 = TfidfVectorizer(analyzer='word', token_pattern=r'\\w{1,}', ngram_range=(1,1),max_features=5000)\n",
        "count_vect_1.fit(X_train.review_text)\n",
        "feature_vector_train=count_vect_1.transform(X_train.review_text)\n",
        "# feature_vector_train=feature_vector_train[:,ind]\n",
        "feature_vector_test=count_vect_1.transform(X_test.review_text)\n",
        "# feature_vector_test=feature_vector_test[:,ind]\n",
        "feature_vector_valid=count_vect_1.transform(X_valid.review_text)\n",
        "# feature_vector_valid=feature_vector_valid[:,ind]"
      ],
      "execution_count": 0,
      "outputs": []
    },
    {
      "cell_type": "code",
      "metadata": {
        "colab_type": "code",
        "id": "5yIo3LPSvgXg",
        "colab": {}
      },
      "source": [
        "NB= naive_bayes.MultinomialNB()\n",
        "NB.fit(feature_vector_train,y_train.values)\n",
        "predictions_train=NB.predict(feature_vector_train)\n",
        "y_test_pred=NB.predict(feature_vector_test)\n",
        "y_val_pred=NB.predict(feature_vector_valid)"
      ],
      "execution_count": 0,
      "outputs": []
    },
    {
      "cell_type": "code",
      "metadata": {
        "scrolled": true,
        "colab_type": "code",
        "outputId": "1969f607-32f3-4d5e-9e3e-22527a93f57b",
        "id": "elfgZRd3vgXk",
        "colab": {
          "base_uri": "https://localhost:8080/",
          "height": 578
        }
      },
      "source": [
        "print('\\033[1m'+\"Train Dataset Report:\\n\"+'\\033[0m')\n",
        "print(classification_report(y_train,predictions_train))\n",
        "print('\\033[1m'+\"Validation Dataset Report:\\n\"+'\\033[0m')\n",
        "print(classification_report(y_valid,y_val_pred))\n",
        "print('\\033[1m'+\"Test Dataset Report:\\n\"+'\\033[0m')\n",
        "print(classification_report(y_test,y_test_pred))"
      ],
      "execution_count": 154,
      "outputs": [
        {
          "output_type": "stream",
          "text": [
            "\u001b[1mTrain Dataset Report:\n",
            "\u001b[0m\n",
            "              precision    recall  f1-score   support\n",
            "\n",
            "          -1       0.69      0.72      0.71     12500\n",
            "           1       0.71      0.68      0.69     12500\n",
            "\n",
            "    accuracy                           0.70     25000\n",
            "   macro avg       0.70      0.70      0.70     25000\n",
            "weighted avg       0.70      0.70      0.70     25000\n",
            "\n",
            "\u001b[1mValidation Dataset Report:\n",
            "\u001b[0m\n",
            "              precision    recall  f1-score   support\n",
            "\n",
            "          -1       0.63      0.67      0.65      2500\n",
            "           1       0.65      0.61      0.63      2500\n",
            "\n",
            "    accuracy                           0.64      5000\n",
            "   macro avg       0.64      0.64      0.64      5000\n",
            "weighted avg       0.64      0.64      0.64      5000\n",
            "\n",
            "\u001b[1mTest Dataset Report:\n",
            "\u001b[0m\n",
            "              precision    recall  f1-score   support\n",
            "\n",
            "          -1       0.65      0.68      0.66      5000\n",
            "           1       0.66      0.63      0.65      5000\n",
            "\n",
            "    accuracy                           0.66     10000\n",
            "   macro avg       0.66      0.66      0.66     10000\n",
            "weighted avg       0.66      0.66      0.66     10000\n",
            "\n"
          ],
          "name": "stdout"
        }
      ]
    },
    {
      "cell_type": "code",
      "metadata": {
        "colab_type": "code",
        "outputId": "19dd5471-b71c-4edc-a2bf-ecf63c345ef2",
        "id": "lbnXbHKEvgXn",
        "colab": {
          "base_uri": "https://localhost:8080/",
          "height": 68
        }
      },
      "source": [
        "print(\"Accuracy of NB on train dataset : {}%\".format(accuracy_score(y_train,predictions_train)*100))\n",
        "print(\"Accuracy of NB on validn dataset: {}%\".format(accuracy_score(y_valid,y_val_pred)*100))\n",
        "print(\"Accuracy of NB on test dataset  : {}%\".format(accuracy_score(y_test,y_test_pred)*100))"
      ],
      "execution_count": 155,
      "outputs": [
        {
          "output_type": "stream",
          "text": [
            "Accuracy of NB on train dataset : 70.08%\n",
            "Accuracy of NB on validn dataset: 64.2%\n",
            "Accuracy of NB on test dataset  : 65.59%\n"
          ],
          "name": "stdout"
        }
      ]
    },
    {
      "cell_type": "code",
      "metadata": {
        "colab_type": "code",
        "outputId": "95a776ae-4fde-46a2-dcf2-07570ed56659",
        "id": "iGAyO5tVvgXq",
        "colab": {
          "base_uri": "https://localhost:8080/",
          "height": 282
        }
      },
      "source": [
        "cm=confusion_matrix(y_test,y_test_pred)\n",
        "sns.heatmap(cm,annot=True)"
      ],
      "execution_count": 156,
      "outputs": [
        {
          "output_type": "execute_result",
          "data": {
            "text/plain": [
              "<matplotlib.axes._subplots.AxesSubplot at 0x7fe2fdbe15c0>"
            ]
          },
          "metadata": {
            "tags": []
          },
          "execution_count": 156
        },
        {
          "output_type": "display_data",
          "data": {
            "image/png": "[encoded data removed]",
            "text/plain": [
              "<Figure size 432x288 with 2 Axes>"
            ]
          },
          "metadata": {
            "tags": [],
            "needs_background": "light"
          }
        }
      ]
    }
  ]
}